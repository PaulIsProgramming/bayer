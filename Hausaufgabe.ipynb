{
 "cells": [
  {
   "cell_type": "markdown",
   "metadata": {},
   "source": [
    "# Hausaufgaben Bayer\n",
    "\n",
    "Your task is to check the feasability of an automated sentiment analysis tool for EPARs, ultimately helping the regulatory colleagues to quickly\n",
    "identify (sub-) optimal clinical trial properties and learn from competitor\n",
    "activities."
   ]
  },
  {
   "cell_type": "code",
   "execution_count": null,
   "metadata": {},
   "outputs": [],
   "source": [
    "!pip install pandas\n",
    "!pip install xlrd\n",
    "!pip install seaborn\n",
    "!pip install spacy\n",
    "!pip install nltk\n",
    "!pip install PyPDF2"
   ]
  },
  {
   "cell_type": "code",
   "execution_count": null,
   "metadata": {},
   "outputs": [],
   "source": [
    "!python -m spacy download en "
   ]
  },
  {
   "cell_type": "code",
   "execution_count": 3,
   "metadata": {},
   "outputs": [],
   "source": [
    "import pandas as pd"
   ]
  },
  {
   "cell_type": "code",
   "execution_count": 4,
   "metadata": {},
   "outputs": [],
   "source": [
    "# Constants\n",
    "color_bayer_dark_blue = '#333399'\n",
    "color_bayer_light_blue = '#01BEFF'\n",
    "color_bayer_green = '#56D500'"
   ]
  },
  {
   "cell_type": "code",
   "execution_count": 5,
   "metadata": {},
   "outputs": [],
   "source": [
    "# load data\n",
    "df = pd.read_excel('data/sentences_with_sentiment_final.xls')"
   ]
  },
  {
   "cell_type": "code",
   "execution_count": 6,
   "metadata": {},
   "outputs": [
    {
     "data": {
      "text/html": [
       "<div>\n",
       "<style scoped>\n",
       "    .dataframe tbody tr th:only-of-type {\n",
       "        vertical-align: middle;\n",
       "    }\n",
       "\n",
       "    .dataframe tbody tr th {\n",
       "        vertical-align: top;\n",
       "    }\n",
       "\n",
       "    .dataframe thead th {\n",
       "        text-align: right;\n",
       "    }\n",
       "</style>\n",
       "<table border=\"1\" class=\"dataframe\">\n",
       "  <thead>\n",
       "    <tr style=\"text-align: right;\">\n",
       "      <th></th>\n",
       "      <th>ID</th>\n",
       "      <th>Sentence</th>\n",
       "      <th>Positive</th>\n",
       "      <th>Negative</th>\n",
       "      <th>Neutral</th>\n",
       "    </tr>\n",
       "  </thead>\n",
       "  <tbody>\n",
       "    <tr>\n",
       "      <th>0</th>\n",
       "      <td>1</td>\n",
       "      <td>The results in 2nd line treatment show an ORR ...</td>\n",
       "      <td>1</td>\n",
       "      <td>0</td>\n",
       "      <td>0</td>\n",
       "    </tr>\n",
       "    <tr>\n",
       "      <th>1</th>\n",
       "      <td>2</td>\n",
       "      <td>The long duration of response and high durable...</td>\n",
       "      <td>1</td>\n",
       "      <td>0</td>\n",
       "      <td>0</td>\n",
       "    </tr>\n",
       "    <tr>\n",
       "      <th>2</th>\n",
       "      <td>3</td>\n",
       "      <td>The median OS time in the updated results exce...</td>\n",
       "      <td>0</td>\n",
       "      <td>0</td>\n",
       "      <td>1</td>\n",
       "    </tr>\n",
       "    <tr>\n",
       "      <th>3</th>\n",
       "      <td>4</td>\n",
       "      <td>Therefore, the clinical benefit in 2nd line tr...</td>\n",
       "      <td>1</td>\n",
       "      <td>0</td>\n",
       "      <td>0</td>\n",
       "    </tr>\n",
       "    <tr>\n",
       "      <th>4</th>\n",
       "      <td>5</td>\n",
       "      <td>The data provided in 1st line, although prelim...</td>\n",
       "      <td>1</td>\n",
       "      <td>0</td>\n",
       "      <td>0</td>\n",
       "    </tr>\n",
       "  </tbody>\n",
       "</table>\n",
       "</div>"
      ],
      "text/plain": [
       "   ID                                           Sentence  Positive  Negative  \\\n",
       "0   1  The results in 2nd line treatment show an ORR ...         1         0   \n",
       "1   2  The long duration of response and high durable...         1         0   \n",
       "2   3  The median OS time in the updated results exce...         0         0   \n",
       "3   4  Therefore, the clinical benefit in 2nd line tr...         1         0   \n",
       "4   5  The data provided in 1st line, although prelim...         1         0   \n",
       "\n",
       "   Neutral  \n",
       "0        0  \n",
       "1        0  \n",
       "2        1  \n",
       "3        0  \n",
       "4        0  "
      ]
     },
     "execution_count": 6,
     "metadata": {},
     "output_type": "execute_result"
    }
   ],
   "source": [
    "df.head()"
   ]
  },
  {
   "cell_type": "markdown",
   "metadata": {},
   "source": [
    "## Missing Values"
   ]
  },
  {
   "cell_type": "code",
   "execution_count": 7,
   "metadata": {},
   "outputs": [
    {
     "data": {
      "text/plain": [
       "ID          0\n",
       "Sentence    0\n",
       "Positive    0\n",
       "Negative    0\n",
       "Neutral     0\n",
       "dtype: int64"
      ]
     },
     "execution_count": 7,
     "metadata": {},
     "output_type": "execute_result"
    }
   ],
   "source": [
    "# check for missing values --> no missing values\n",
    "df.isnull().sum()"
   ]
  },
  {
   "cell_type": "markdown",
   "metadata": {},
   "source": [
    "## Feature Engineering"
   ]
  },
  {
   "cell_type": "code",
   "execution_count": 8,
   "metadata": {},
   "outputs": [],
   "source": [
    "import spacy\n",
    "import string\n",
    "from spacy.lang.en.stop_words import STOP_WORDS\n",
    "from spacy.lang.en import English"
   ]
  },
  {
   "cell_type": "code",
   "execution_count": 9,
   "metadata": {},
   "outputs": [],
   "source": [
    "# add feature that describes sentiment as one number\n",
    "df['Sentiment'] = df.apply(lambda x: 0 if x['Negative'] else 1 if x['Neutral'] else 2, axis=1)\n",
    "df['Sentiment_Text'] = df.apply(lambda x: 'Negativ' if x['Negative'] else 'Neutral' if x['Neutral'] else 'Positiv', axis=1)"
   ]
  },
  {
   "cell_type": "code",
   "execution_count": 10,
   "metadata": {},
   "outputs": [
    {
     "data": {
      "text/plain": [
       "1"
      ]
     },
     "execution_count": 10,
     "metadata": {},
     "output_type": "execute_result"
    }
   ],
   "source": [
    "# check if sentence has two sentiments --> no\n",
    "df[['Positive', 'Negative', 'Neutral']].iloc[0].sum()"
   ]
  },
  {
   "cell_type": "code",
   "execution_count": 11,
   "metadata": {},
   "outputs": [
    {
     "data": {
      "text/plain": [
       "2    160\n",
       "1     70\n",
       "0     36\n",
       "Name: Sentiment, dtype: int64"
      ]
     },
     "execution_count": 11,
     "metadata": {},
     "output_type": "execute_result"
    }
   ],
   "source": [
    "df['Sentiment'].value_counts()"
   ]
  },
  {
   "cell_type": "code",
   "execution_count": 12,
   "metadata": {},
   "outputs": [],
   "source": [
    "# construct df with two sentiments by merging neutral and negative (the ones with the fewest examples)\n",
    "df['Sentiment_Easy'] = df['Sentiment'].apply(lambda x: 1 if x == 2 else 0)\n",
    "df['Sentiment_Easy_Text'] = df['Sentiment_Easy'].apply(lambda x: 'Positiv' if x == 1 else 'Other')"
   ]
  },
  {
   "cell_type": "code",
   "execution_count": 13,
   "metadata": {},
   "outputs": [
    {
     "data": {
      "text/html": [
       "<div>\n",
       "<style scoped>\n",
       "    .dataframe tbody tr th:only-of-type {\n",
       "        vertical-align: middle;\n",
       "    }\n",
       "\n",
       "    .dataframe tbody tr th {\n",
       "        vertical-align: top;\n",
       "    }\n",
       "\n",
       "    .dataframe thead th {\n",
       "        text-align: right;\n",
       "    }\n",
       "</style>\n",
       "<table border=\"1\" class=\"dataframe\">\n",
       "  <thead>\n",
       "    <tr style=\"text-align: right;\">\n",
       "      <th></th>\n",
       "      <th>ID</th>\n",
       "      <th>Sentence</th>\n",
       "      <th>Positive</th>\n",
       "      <th>Negative</th>\n",
       "      <th>Neutral</th>\n",
       "      <th>Sentiment</th>\n",
       "      <th>Sentiment_Text</th>\n",
       "      <th>Sentiment_Easy</th>\n",
       "      <th>Sentiment_Easy_Text</th>\n",
       "    </tr>\n",
       "  </thead>\n",
       "  <tbody>\n",
       "    <tr>\n",
       "      <th>0</th>\n",
       "      <td>1</td>\n",
       "      <td>The results in 2nd line treatment show an ORR ...</td>\n",
       "      <td>1</td>\n",
       "      <td>0</td>\n",
       "      <td>0</td>\n",
       "      <td>2</td>\n",
       "      <td>Positiv</td>\n",
       "      <td>1</td>\n",
       "      <td>Positiv</td>\n",
       "    </tr>\n",
       "    <tr>\n",
       "      <th>1</th>\n",
       "      <td>2</td>\n",
       "      <td>The long duration of response and high durable...</td>\n",
       "      <td>1</td>\n",
       "      <td>0</td>\n",
       "      <td>0</td>\n",
       "      <td>2</td>\n",
       "      <td>Positiv</td>\n",
       "      <td>1</td>\n",
       "      <td>Positiv</td>\n",
       "    </tr>\n",
       "    <tr>\n",
       "      <th>2</th>\n",
       "      <td>3</td>\n",
       "      <td>The median OS time in the updated results exce...</td>\n",
       "      <td>0</td>\n",
       "      <td>0</td>\n",
       "      <td>1</td>\n",
       "      <td>1</td>\n",
       "      <td>Neutral</td>\n",
       "      <td>0</td>\n",
       "      <td>Other</td>\n",
       "    </tr>\n",
       "    <tr>\n",
       "      <th>3</th>\n",
       "      <td>4</td>\n",
       "      <td>Therefore, the clinical benefit in 2nd line tr...</td>\n",
       "      <td>1</td>\n",
       "      <td>0</td>\n",
       "      <td>0</td>\n",
       "      <td>2</td>\n",
       "      <td>Positiv</td>\n",
       "      <td>1</td>\n",
       "      <td>Positiv</td>\n",
       "    </tr>\n",
       "    <tr>\n",
       "      <th>4</th>\n",
       "      <td>5</td>\n",
       "      <td>The data provided in 1st line, although prelim...</td>\n",
       "      <td>1</td>\n",
       "      <td>0</td>\n",
       "      <td>0</td>\n",
       "      <td>2</td>\n",
       "      <td>Positiv</td>\n",
       "      <td>1</td>\n",
       "      <td>Positiv</td>\n",
       "    </tr>\n",
       "  </tbody>\n",
       "</table>\n",
       "</div>"
      ],
      "text/plain": [
       "   ID                                           Sentence  Positive  Negative  \\\n",
       "0   1  The results in 2nd line treatment show an ORR ...         1         0   \n",
       "1   2  The long duration of response and high durable...         1         0   \n",
       "2   3  The median OS time in the updated results exce...         0         0   \n",
       "3   4  Therefore, the clinical benefit in 2nd line tr...         1         0   \n",
       "4   5  The data provided in 1st line, although prelim...         1         0   \n",
       "\n",
       "   Neutral  Sentiment Sentiment_Text  Sentiment_Easy Sentiment_Easy_Text  \n",
       "0        0          2        Positiv               1             Positiv  \n",
       "1        0          2        Positiv               1             Positiv  \n",
       "2        1          1        Neutral               0               Other  \n",
       "3        0          2        Positiv               1             Positiv  \n",
       "4        0          2        Positiv               1             Positiv  "
      ]
     },
     "execution_count": 13,
     "metadata": {},
     "output_type": "execute_result"
    }
   ],
   "source": [
    "df.head(5)"
   ]
  },
  {
   "cell_type": "code",
   "execution_count": 14,
   "metadata": {},
   "outputs": [
    {
     "data": {
      "text/plain": [
       "1    160\n",
       "0    106\n",
       "Name: Sentiment_Easy, dtype: int64"
      ]
     },
     "execution_count": 14,
     "metadata": {},
     "output_type": "execute_result"
    }
   ],
   "source": [
    "# check if there are only two categories after merging neutral and negative\n",
    "df['Sentiment_Easy'].value_counts()"
   ]
  },
  {
   "cell_type": "code",
   "execution_count": 15,
   "metadata": {},
   "outputs": [],
   "source": [
    "# remove punctiation, stop words and lemmatisation\n",
    "nlp = spacy.load('en')\n",
    "stop_words = spacy.lang.en.stop_words.STOP_WORDS\n",
    "parser = English()\n",
    "\n",
    "def clean_sentence(sentence):\n",
    "    # convert sentence into tokens (words)\n",
    "    sentence = nlp(sentence)\n",
    "    # Lemmatizing  \n",
    "    sentence = [word.lemma_.lower().strip() for word in sentence]\n",
    "   \n",
    "    # remove stop words\n",
    "    return [word for word in sentence if word not in stop_words and word not in string.punctuation]\n",
    "    \n",
    "\n",
    "df['Sentence_Cleaned'] = df['Sentence'].apply(lambda x: \" \".join(clean_sentence(x)))"
   ]
  },
  {
   "cell_type": "code",
   "execution_count": 16,
   "metadata": {},
   "outputs": [
    {
     "data": {
      "text/html": [
       "<div>\n",
       "<style scoped>\n",
       "    .dataframe tbody tr th:only-of-type {\n",
       "        vertical-align: middle;\n",
       "    }\n",
       "\n",
       "    .dataframe tbody tr th {\n",
       "        vertical-align: top;\n",
       "    }\n",
       "\n",
       "    .dataframe thead th {\n",
       "        text-align: right;\n",
       "    }\n",
       "</style>\n",
       "<table border=\"1\" class=\"dataframe\">\n",
       "  <thead>\n",
       "    <tr style=\"text-align: right;\">\n",
       "      <th></th>\n",
       "      <th>ID</th>\n",
       "      <th>Sentence</th>\n",
       "      <th>Positive</th>\n",
       "      <th>Negative</th>\n",
       "      <th>Neutral</th>\n",
       "      <th>Sentiment</th>\n",
       "      <th>Sentiment_Text</th>\n",
       "      <th>Sentiment_Easy</th>\n",
       "      <th>Sentiment_Easy_Text</th>\n",
       "      <th>Sentence_Cleaned</th>\n",
       "    </tr>\n",
       "  </thead>\n",
       "  <tbody>\n",
       "    <tr>\n",
       "      <th>0</th>\n",
       "      <td>1</td>\n",
       "      <td>The results in 2nd line treatment show an ORR ...</td>\n",
       "      <td>1</td>\n",
       "      <td>0</td>\n",
       "      <td>0</td>\n",
       "      <td>2</td>\n",
       "      <td>Positiv</td>\n",
       "      <td>1</td>\n",
       "      <td>Positiv</td>\n",
       "      <td>result 2nd line treatment orr 33 patient durab...</td>\n",
       "    </tr>\n",
       "  </tbody>\n",
       "</table>\n",
       "</div>"
      ],
      "text/plain": [
       "   ID                                           Sentence  Positive  Negative  \\\n",
       "0   1  The results in 2nd line treatment show an ORR ...         1         0   \n",
       "\n",
       "   Neutral  Sentiment Sentiment_Text  Sentiment_Easy Sentiment_Easy_Text  \\\n",
       "0        0          2        Positiv               1             Positiv   \n",
       "\n",
       "                                    Sentence_Cleaned  \n",
       "0  result 2nd line treatment orr 33 patient durab...  "
      ]
     },
     "execution_count": 16,
     "metadata": {},
     "output_type": "execute_result"
    }
   ],
   "source": [
    "df.head(1)"
   ]
  },
  {
   "cell_type": "markdown",
   "metadata": {},
   "source": [
    "## Data Exploration"
   ]
  },
  {
   "cell_type": "code",
   "execution_count": 54,
   "metadata": {},
   "outputs": [],
   "source": [
    "import nltk\n",
    "import re\n",
    "import PyPDF2\n",
    "import seaborn as sns\n",
    "import matplotlib.pyplot as plt\n",
    "from collections import Counter\n",
    "from nltk.collocations import BigramCollocationFinder\n",
    "from nltk import word_tokenize\n",
    "from os import listdir\n",
    "from os.path import isfile, join"
   ]
  },
  {
   "cell_type": "code",
   "execution_count": 18,
   "metadata": {},
   "outputs": [
    {
     "data": {
      "text/html": [
       "<div>\n",
       "<style scoped>\n",
       "    .dataframe tbody tr th:only-of-type {\n",
       "        vertical-align: middle;\n",
       "    }\n",
       "\n",
       "    .dataframe tbody tr th {\n",
       "        vertical-align: top;\n",
       "    }\n",
       "\n",
       "    .dataframe thead th {\n",
       "        text-align: right;\n",
       "    }\n",
       "</style>\n",
       "<table border=\"1\" class=\"dataframe\">\n",
       "  <thead>\n",
       "    <tr style=\"text-align: right;\">\n",
       "      <th></th>\n",
       "      <th>count</th>\n",
       "      <th>mean</th>\n",
       "      <th>std</th>\n",
       "      <th>min</th>\n",
       "      <th>25%</th>\n",
       "      <th>50%</th>\n",
       "      <th>75%</th>\n",
       "      <th>max</th>\n",
       "    </tr>\n",
       "  </thead>\n",
       "  <tbody>\n",
       "    <tr>\n",
       "      <th>ID</th>\n",
       "      <td>266.0</td>\n",
       "      <td>133.500000</td>\n",
       "      <td>76.931788</td>\n",
       "      <td>1.0</td>\n",
       "      <td>67.25</td>\n",
       "      <td>133.5</td>\n",
       "      <td>199.75</td>\n",
       "      <td>266.0</td>\n",
       "    </tr>\n",
       "    <tr>\n",
       "      <th>Positive</th>\n",
       "      <td>266.0</td>\n",
       "      <td>0.601504</td>\n",
       "      <td>0.490511</td>\n",
       "      <td>0.0</td>\n",
       "      <td>0.00</td>\n",
       "      <td>1.0</td>\n",
       "      <td>1.00</td>\n",
       "      <td>1.0</td>\n",
       "    </tr>\n",
       "    <tr>\n",
       "      <th>Negative</th>\n",
       "      <td>266.0</td>\n",
       "      <td>0.135338</td>\n",
       "      <td>0.342729</td>\n",
       "      <td>0.0</td>\n",
       "      <td>0.00</td>\n",
       "      <td>0.0</td>\n",
       "      <td>0.00</td>\n",
       "      <td>1.0</td>\n",
       "    </tr>\n",
       "    <tr>\n",
       "      <th>Neutral</th>\n",
       "      <td>266.0</td>\n",
       "      <td>0.263158</td>\n",
       "      <td>0.441177</td>\n",
       "      <td>0.0</td>\n",
       "      <td>0.00</td>\n",
       "      <td>0.0</td>\n",
       "      <td>1.00</td>\n",
       "      <td>1.0</td>\n",
       "    </tr>\n",
       "    <tr>\n",
       "      <th>Sentiment</th>\n",
       "      <td>266.0</td>\n",
       "      <td>1.466165</td>\n",
       "      <td>0.722144</td>\n",
       "      <td>0.0</td>\n",
       "      <td>1.00</td>\n",
       "      <td>2.0</td>\n",
       "      <td>2.00</td>\n",
       "      <td>2.0</td>\n",
       "    </tr>\n",
       "    <tr>\n",
       "      <th>Sentiment_Easy</th>\n",
       "      <td>266.0</td>\n",
       "      <td>0.601504</td>\n",
       "      <td>0.490511</td>\n",
       "      <td>0.0</td>\n",
       "      <td>0.00</td>\n",
       "      <td>1.0</td>\n",
       "      <td>1.00</td>\n",
       "      <td>1.0</td>\n",
       "    </tr>\n",
       "  </tbody>\n",
       "</table>\n",
       "</div>"
      ],
      "text/plain": [
       "                count        mean        std  min    25%    50%     75%    max\n",
       "ID              266.0  133.500000  76.931788  1.0  67.25  133.5  199.75  266.0\n",
       "Positive        266.0    0.601504   0.490511  0.0   0.00    1.0    1.00    1.0\n",
       "Negative        266.0    0.135338   0.342729  0.0   0.00    0.0    0.00    1.0\n",
       "Neutral         266.0    0.263158   0.441177  0.0   0.00    0.0    1.00    1.0\n",
       "Sentiment       266.0    1.466165   0.722144  0.0   1.00    2.0    2.00    2.0\n",
       "Sentiment_Easy  266.0    0.601504   0.490511  0.0   0.00    1.0    1.00    1.0"
      ]
     },
     "execution_count": 18,
     "metadata": {},
     "output_type": "execute_result"
    }
   ],
   "source": [
    "df.describe().transpose()"
   ]
  },
  {
   "cell_type": "code",
   "execution_count": 19,
   "metadata": {},
   "outputs": [
    {
     "data": {
      "text/plain": [
       "Positive  Negative  Neutral\n",
       "1         0         0          160\n",
       "0         0         1           70\n",
       "          1         0           36\n",
       "dtype: int64"
      ]
     },
     "execution_count": 19,
     "metadata": {},
     "output_type": "execute_result"
    }
   ],
   "source": [
    "# How many examples do we have per vote\n",
    "df[['Positive', 'Negative', 'Neutral']].value_counts()"
   ]
  },
  {
   "cell_type": "code",
   "execution_count": 20,
   "metadata": {},
   "outputs": [],
   "source": [
    "bayer_colors = [color_bayer_green, color_bayer_dark_blue, color_bayer_light_blue]\n",
    "customPalette = sns.set_palette(sns.color_palette(bayer_colors))"
   ]
  },
  {
   "cell_type": "code",
   "execution_count": 21,
   "metadata": {},
   "outputs": [
    {
     "data": {
      "text/plain": [
       "[Text(0.5, 0, 'Sentiment'),\n",
       " Text(0, 0.5, 'Anzahl'),\n",
       " Text(0.5, 1.0, 'Anzahl Beispiele per Sentiment')]"
      ]
     },
     "execution_count": 21,
     "metadata": {},
     "output_type": "execute_result"
    },
    {
     "data": {
      "image/png": "[encoded data removed]",
      "text/plain": [
       "<Figure size 432x288 with 1 Axes>"
      ]
     },
     "metadata": {
      "needs_background": "light"
     },
     "output_type": "display_data"
    }
   ],
   "source": [
    "ax = sns.countplot(x='Sentiment_Text', data=df, palette=customPalette, order=['Negativ', 'Neutral', 'Positiv'] )\n",
    "ax.set(xlabel=\"Sentiment\", ylabel = \"Anzahl\", title=\"Anzahl Beispiele per Sentiment\")"
   ]
  },
  {
   "cell_type": "code",
   "execution_count": 22,
   "metadata": {},
   "outputs": [
    {
     "data": {
      "text/plain": [
       "True    266\n",
       "dtype: int64"
      ]
     },
     "execution_count": 22,
     "metadata": {},
     "output_type": "execute_result"
    }
   ],
   "source": [
    "# check if there is more than one sentiment assigned to same sentence --> there is not\n",
    "df.apply(lambda x: False if sum([x['Negative'], x['Neutral'], x['Positive']]) > 1 else True, axis=1).value_counts()"
   ]
  },
  {
   "cell_type": "code",
   "execution_count": null,
   "metadata": {},
   "outputs": [],
   "source": []
  },
  {
   "cell_type": "markdown",
   "metadata": {},
   "source": [
    "### Finde relevante Sätze"
   ]
  },
  {
   "cell_type": "code",
   "execution_count": 25,
   "metadata": {},
   "outputs": [
    {
     "name": "stdout",
     "output_type": "stream",
     "text": [
      "study: 102\n",
      "safety: 81\n",
      "datum: 65\n",
      "patient: 52\n",
      "efficacy: 47\n",
      "treatment: 40\n",
      "clinical: 38\n",
      "product: 38\n",
      "consider: 35\n",
      "profile: 31\n",
      "support: 30\n",
      "ct: 30\n",
      "p10: 30\n",
      "dose: 27\n",
      "provide: 25\n",
      "result: 23\n",
      "subject: 23\n",
      "compare: 22\n",
      "mg: 22\n",
      "week: 22\n",
      "additional: 21\n",
      "combination: 21\n",
      "difference: 20\n",
      "effect: 19\n",
      "term: 19\n"
     ]
    }
   ],
   "source": [
    "# find most common words with frequency\n",
    "sentences_list = df['Sentence_Cleaned']\n",
    "sentences = \" \".join(sentences_list)\n",
    "doc = nlp(sentences)\n",
    "words = [token.text for token in doc if token.is_stop != True and token.is_punct != True]\n",
    "word_freq = Counter(words)\n",
    "most_common_words_count = word_freq.most_common(25)\n",
    "\n",
    "for i in most_common_words_count:\n",
    "    print(f'{i[0]}: {i[1]}')"
   ]
  },
  {
   "cell_type": "code",
   "execution_count": 26,
   "metadata": {},
   "outputs": [],
   "source": [
    "# extract most common words\n",
    "most_common_words = [' ' + x[0] for x in most_common_words_count]"
   ]
  },
  {
   "cell_type": "code",
   "execution_count": 33,
   "metadata": {},
   "outputs": [],
   "source": [
    "# check how many common words a sentence has\n",
    "def count_common_words(sentences_list, most_common_words, start = 0, up_to = 5):\n",
    "    sentences_with_multiple_common_words = []\n",
    "    sentences_word_coverage = {}\n",
    "    for num in range(start,up_to):\n",
    "        for sent in sentences_list:\n",
    "            word_matches = [c_w for c_w in most_common_words if c_w in sent]\n",
    "            if  len(word_matches) > num:\n",
    "                sentences_with_multiple_common_words.append(sent)\n",
    "\n",
    "        print(f'{len(sentences_with_multiple_common_words)* 100 / len(sentences_list):.2f}% der Sätze beinhalten {str(num+1)} der Top 25 Wörter')\n",
    "        sentences_word_coverage[num+1] = len(sentences_with_multiple_common_words)* 100 / len(sentences_list)\n",
    "        sentences_with_multiple_common_words.clear()\n",
    "    return sentences_word_coverage"
   ]
  },
  {
   "cell_type": "code",
   "execution_count": 34,
   "metadata": {},
   "outputs": [
    {
     "name": "stdout",
     "output_type": "stream",
     "text": [
      "91.35% der Sätze beinhalten 1 der Top 25 Wörter\n",
      "72.93% der Sätze beinhalten 2 der Top 25 Wörter\n",
      "49.25% der Sätze beinhalten 3 der Top 25 Wörter\n",
      "30.83% der Sätze beinhalten 4 der Top 25 Wörter\n",
      "19.92% der Sätze beinhalten 5 der Top 25 Wörter\n"
     ]
    }
   ],
   "source": [
    "sentences_word_coverage = count_common_words(sentences_list, most_common_words)"
   ]
  },
  {
   "cell_type": "code",
   "execution_count": 37,
   "metadata": {},
   "outputs": [
    {
     "name": "stderr",
     "output_type": "stream",
     "text": [
      "No handles with labels found to put in legend.\n"
     ]
    },
    {
     "data": {
      "image/png": "[encoded data removed]",
      "text/plain": [
       "<Figure size 432x288 with 1 Axes>"
      ]
     },
     "metadata": {
      "needs_background": "light"
     },
     "output_type": "display_data"
    }
   ],
   "source": [
    "series = pd.Series(sentences_word_coverage) \n",
    "keys = sentences_word_coverage.keys()\n",
    "vals = sentences_word_coverage.values()\n",
    "\n",
    "plt.bar(keys, vals, color=color_bayer_light_blue)\n",
    "\n",
    "plt.ylabel ('Prozent der Sätze')\n",
    "plt.xlabel ('Anzahl häufiger Worte gleichzeit in einem Satz')\n",
    "plt.xticks(list(keys))\n",
    "plt.ylim(0,100)\n",
    "#plt.title('Wieviel häufige Worte kommen gleichzeitig in relevanten Sätzen vor')\n",
    "plt.legend (bbox_to_anchor=(1, 1), loc=\"upper right\", borderaxespad=0.)\n",
    "\n",
    "plt.show()"
   ]
  },
  {
   "cell_type": "code",
   "execution_count": 46,
   "metadata": {},
   "outputs": [
    {
     "name": "stdout",
     "output_type": "stream",
     "text": [
      "('of', 'the') 68\n",
      "('.', 'The') 67\n",
      "('in', 'the') 51\n",
      "(',', 'the') 37\n",
      "('safety', 'profile') 24\n",
      "('to', 'the') 23\n",
      "('has', 'been') 22\n",
      "('with', 'the') 21\n",
      "('profile', 'of') 21\n",
      "('patients', 'with') 20\n",
      "('on', 'the') 19\n",
      "('for', 'the') 19\n",
      "('the', 'safety') 19\n",
      "('in', 'patients') 16\n",
      "('support', 'the') 15\n",
      "('efficacy', 'of') 14\n",
      "(')', '.') 14\n",
      "('compared', 'to') 13\n",
      "('from', 'the') 13\n",
      "('safety', 'data') 13\n",
      "('the', 'reference') 13\n",
      "('to', 'be') 12\n",
      "('.', 'In') 12\n",
      "(',', 'and') 11\n",
      "('have', 'been') 11\n",
      "('clinical', 'data') 11\n",
      "('the', 'FRC') 11\n",
      "('by', 'the') 10\n"
     ]
    }
   ],
   "source": [
    "# ngram frequencies to detect relevant sentences --> might be good indicator but more reseach into \n",
    "# relevant groups required (e.g. group \"of the\" is just ctoo common everywhere)\n",
    "sentences_list = df['Sentence'].tolist()\n",
    "sentences = \" \".join(sentences_list)\n",
    "bigram_measures = nltk.collocations.BigramAssocMeasures()\n",
    "finder = BigramCollocationFinder.from_words(word_tokenize(sentences))\n",
    "for k,v in sorted(finder.ngram_fd.items(), key=lambda item: item[1], reverse=True):\n",
    "    print(k,v)\n",
    "    if v == 10:\n",
    "        break"
   ]
  },
  {
   "cell_type": "markdown",
   "metadata": {},
   "source": [
    "#### Extract important sentences from EPARs\n",
    "1. Extract only Discussion section\n",
    "2. Extract all sentences\n",
    "3. check how many sentences contain common words from provided important sentences"
   ]
  },
  {
   "cell_type": "code",
   "execution_count": 47,
   "metadata": {},
   "outputs": [],
   "source": [
    "def extract_relevant_sentences(filename, most_common_words, start, num_top_hits):\n",
    "    pages = []\n",
    "    with open(filename,'rb') as pdf_file:\n",
    "        read_pdf = PyPDF2.PdfFileReader(pdf_file)\n",
    "        number_of_pages = read_pdf.getNumPages()\n",
    "        for page_number in range(number_of_pages):   # use xrange in Py2\n",
    "            page = read_pdf.getPage(page_number)\n",
    "            pages.append(page.extractText())\n",
    "    \n",
    "    text = \" \".join(pages)\n",
    "    text = text.lower()\n",
    "    text = text.replace('\\n', ' ')\n",
    "    \n",
    "    headline_indexes = [m.end(0) for m in re.finditer('2 scientific discussion| 2. scientific discussion', text)]\n",
    " \n",
    "    # 1. Extract relevant section\n",
    "    if len(headline_indexes) > 1:\n",
    "        text = text[headline_indexes[1]:]\n",
    "        \n",
    "    # 2. extract sentences\n",
    "    doc = nlp(text)\n",
    "    \n",
    "    # 3. Count sentences with common words\n",
    "    count_common_words([x.text for x in doc.sents], most_common_words, start, num_top_hits)"
   ]
  },
  {
   "cell_type": "code",
   "execution_count": 53,
   "metadata": {},
   "outputs": [
    {
     "name": "stdout",
     "output_type": "stream",
     "text": [
      "\n",
      "0.1. gilenya-epar-public-assessment-report_en.pdf\n",
      "36.26% der Sätze beinhalten 1 der Top 25 Wörter\n",
      "16.02% der Sätze beinhalten 2 der Top 25 Wörter\n",
      "6.84% der Sätze beinhalten 3 der Top 25 Wörter\n",
      "2.22% der Sätze beinhalten 4 der Top 25 Wörter\n",
      "0.91% der Sätze beinhalten 5 der Top 25 Wörter\n",
      "\n",
      "1.1. taltz-epar-public-assessment-report_en.pdf\n",
      "37.62% der Sätze beinhalten 1 der Top 25 Wörter\n",
      "14.77% der Sätze beinhalten 2 der Top 25 Wörter\n",
      "5.82% der Sätze beinhalten 3 der Top 25 Wörter\n",
      "2.17% der Sätze beinhalten 4 der Top 25 Wörter\n",
      "0.67% der Sätze beinhalten 5 der Top 25 Wörter\n",
      "\n",
      "2.1. temozolomide-teva-epar-public-assessment-report_en.pdf\n",
      "44.72% der Sätze beinhalten 1 der Top 25 Wörter\n",
      "21.34% der Sätze beinhalten 2 der Top 25 Wörter\n",
      "8.13% der Sätze beinhalten 3 der Top 25 Wörter\n",
      "2.03% der Sätze beinhalten 4 der Top 25 Wörter\n",
      "0.41% der Sätze beinhalten 5 der Top 25 Wörter\n",
      "\n",
      "3.1. vargatef-epar-public-assessment-report_en.pdf\n",
      "33.18% der Sätze beinhalten 1 der Top 25 Wörter\n",
      "13.80% der Sätze beinhalten 2 der Top 25 Wörter\n",
      "4.71% der Sätze beinhalten 3 der Top 25 Wörter\n",
      "1.21% der Sätze beinhalten 4 der Top 25 Wörter\n",
      "0.27% der Sätze beinhalten 5 der Top 25 Wörter\n",
      "\n",
      "4.1. vokanamet-epar-public-assessment-report_en.pdf\n",
      "31.74% der Sätze beinhalten 1 der Top 25 Wörter\n",
      "12.70% der Sätze beinhalten 2 der Top 25 Wörter\n",
      "5.36% der Sätze beinhalten 3 der Top 25 Wörter\n",
      "2.16% der Sätze beinhalten 4 der Top 25 Wörter\n",
      "0.82% der Sätze beinhalten 5 der Top 25 Wörter\n",
      "\n",
      "5.aldara-epar-scientific-discussion_en.pdf\n",
      "51.34% der Sätze beinhalten 1 der Top 25 Wörter\n",
      "20.97% der Sätze beinhalten 2 der Top 25 Wörter\n",
      "7.26% der Sätze beinhalten 3 der Top 25 Wörter\n",
      "1.34% der Sätze beinhalten 4 der Top 25 Wörter\n",
      "0.27% der Sätze beinhalten 5 der Top 25 Wörter\n",
      "\n",
      "6.evista-epar-scientific-discussion_en.pdf\n",
      "57.49% der Sätze beinhalten 1 der Top 25 Wörter\n",
      "25.44% der Sätze beinhalten 2 der Top 25 Wörter\n",
      "8.53% der Sätze beinhalten 3 der Top 25 Wörter\n",
      "2.90% der Sätze beinhalten 4 der Top 25 Wörter\n",
      "0.48% der Sätze beinhalten 5 der Top 25 Wörter\n",
      "\n",
      "7.herceptin-epar-scientific-discussion_en.pdf\n",
      "35.55% der Sätze beinhalten 1 der Top 25 Wörter\n",
      "13.54% der Sätze beinhalten 2 der Top 25 Wörter\n",
      "4.76% der Sätze beinhalten 3 der Top 25 Wörter\n",
      "1.39% der Sätze beinhalten 4 der Top 25 Wörter\n",
      "0.32% der Sätze beinhalten 5 der Top 25 Wörter\n",
      "\n",
      "8.invega-h-c-746-ii-0043-epar-assessment-report-variation_en.pdf\n",
      "40.33% der Sätze beinhalten 1 der Top 25 Wörter\n",
      "16.25% der Sätze beinhalten 2 der Top 25 Wörter\n",
      "5.65% der Sätze beinhalten 3 der Top 25 Wörter\n",
      "1.80% der Sätze beinhalten 4 der Top 25 Wörter\n",
      "0.51% der Sätze beinhalten 5 der Top 25 Wörter\n",
      "\n",
      "9.kaletra-epar-scientific-discussion_en.pdf\n",
      "46.87% der Sätze beinhalten 1 der Top 25 Wörter\n",
      "21.38% der Sätze beinhalten 2 der Top 25 Wörter\n",
      "9.07% der Sätze beinhalten 3 der Top 25 Wörter\n",
      "2.81% der Sätze beinhalten 4 der Top 25 Wörter\n",
      "0.97% der Sätze beinhalten 5 der Top 25 Wörter\n",
      "\n",
      "10.lantus-epar-scientific-discussion_en.pdf\n",
      "52.69% der Sätze beinhalten 1 der Top 25 Wörter\n",
      "21.70% der Sätze beinhalten 2 der Top 25 Wörter\n",
      "7.83% der Sätze beinhalten 3 der Top 25 Wörter\n",
      "2.61% der Sätze beinhalten 4 der Top 25 Wörter\n",
      "0.65% der Sätze beinhalten 5 der Top 25 Wörter\n",
      "\n",
      "11.lyrica-epar-scientific-discussion_en.pdf\n",
      "34.28% der Sätze beinhalten 1 der Top 25 Wörter\n",
      "13.60% der Sätze beinhalten 2 der Top 25 Wörter\n",
      "4.36% der Sätze beinhalten 3 der Top 25 Wörter\n",
      "1.26% der Sätze beinhalten 4 der Top 25 Wörter\n",
      "0.29% der Sätze beinhalten 5 der Top 25 Wörter\n",
      "\n",
      "12.puregon-epar-scientific-discussion_en.pdf\n",
      "41.65% der Sätze beinhalten 1 der Top 25 Wörter\n",
      "16.16% der Sätze beinhalten 2 der Top 25 Wörter\n",
      "3.95% der Sätze beinhalten 3 der Top 25 Wörter\n",
      "0.90% der Sätze beinhalten 4 der Top 25 Wörter\n",
      "0.36% der Sätze beinhalten 5 der Top 25 Wörter\n",
      "\n",
      "13.yentreve-epar-scientific-discussion_en.pdf\n",
      "40.34% der Sätze beinhalten 1 der Top 25 Wörter\n",
      "18.88% der Sätze beinhalten 2 der Top 25 Wörter\n",
      "7.30% der Sätze beinhalten 3 der Top 25 Wörter\n",
      "2.07% der Sätze beinhalten 4 der Top 25 Wörter\n",
      "0.79% der Sätze beinhalten 5 der Top 25 Wörter\n",
      "\n",
      "14.zometa-epar-scientific-discussion_en.pdf\n",
      "44.48% der Sätze beinhalten 1 der Top 25 Wörter\n",
      "16.99% der Sätze beinhalten 2 der Top 25 Wörter\n",
      "7.67% der Sätze beinhalten 3 der Top 25 Wörter\n",
      "3.70% der Sätze beinhalten 4 der Top 25 Wörter\n",
      "1.06% der Sätze beinhalten 5 der Top 25 Wörter\n"
     ]
    }
   ],
   "source": [
    "# Print word frequency stats for EPARs\n",
    "epar_files = [f for f in listdir('EPARs') if isfile(join('EPARs', f))]\n",
    "for index, file in enumerate(epar_files):\n",
    "    print(f'\\n{index}.{file}')\n",
    "    extract_relevant_sentences('EPARs/' + file, most_common_words,0, 5)"
   ]
  },
  {
   "cell_type": "code",
   "execution_count": null,
   "metadata": {},
   "outputs": [],
   "source": []
  },
  {
   "cell_type": "code",
   "execution_count": null,
   "metadata": {},
   "outputs": [],
   "source": []
  }
 ],
 "metadata": {
  "kernelspec": {
   "display_name": "Python 3",
   "language": "python",
   "name": "python3"
  },
  "language_info": {
   "codemirror_mode": {
    "name": "ipython",
    "version": 3
   },
   "file_extension": ".py",
   "mimetype": "text/x-python",
   "name": "python",
   "nbconvert_exporter": "python",
   "pygments_lexer": "ipython3",
   "version": "3.7.9"
  }
 },
 "nbformat": 4,
 "nbformat_minor": 4
}
