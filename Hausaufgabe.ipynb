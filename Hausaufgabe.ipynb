{
 "cells": [
  {
   "cell_type": "markdown",
   "metadata": {},
   "source": [
    "# Hausaufgaben Bayer\n",
    "\n",
    "Your task is to check the feasability of an automated sentiment analysis tool for EPARs, ultimately helping the regulatory colleagues to quickly\n",
    "identify (sub-) optimal clinical trial properties and learn from competitor\n",
    "activities."
   ]
  },
  {
   "cell_type": "code",
   "execution_count": 399,
   "metadata": {},
   "outputs": [
    {
     "name": "stdout",
     "output_type": "stream",
     "text": [
      "Requirement already satisfied: pandas in c:\\programdata\\anaconda3\\envs\\bayer_app\\lib\\site-packages (1.1.2)\n",
      "Requirement already satisfied: numpy>=1.15.4 in c:\\programdata\\anaconda3\\envs\\bayer_app\\lib\\site-packages (from pandas) (1.19.2)\n",
      "Requirement already satisfied: python-dateutil>=2.7.3 in c:\\programdata\\anaconda3\\envs\\bayer_app\\lib\\site-packages (from pandas) (2.8.1)\n",
      "Requirement already satisfied: pytz>=2017.2 in c:\\programdata\\anaconda3\\envs\\bayer_app\\lib\\site-packages (from pandas) (2020.1)\n",
      "Requirement already satisfied: six>=1.5 in c:\\programdata\\anaconda3\\envs\\bayer_app\\lib\\site-packages (from python-dateutil>=2.7.3->pandas) (1.15.0)\n",
      "Requirement already satisfied: xlrd in c:\\programdata\\anaconda3\\envs\\bayer_app\\lib\\site-packages (1.2.0)\n",
      "Requirement already satisfied: seaborn in c:\\programdata\\anaconda3\\envs\\bayer_app\\lib\\site-packages (0.11.0)\n",
      "Requirement already satisfied: matplotlib>=2.2 in c:\\programdata\\anaconda3\\envs\\bayer_app\\lib\\site-packages (from seaborn) (3.3.1)\n",
      "Requirement already satisfied: numpy>=1.15 in c:\\programdata\\anaconda3\\envs\\bayer_app\\lib\\site-packages (from seaborn) (1.19.2)\n",
      "Requirement already satisfied: pandas>=0.23 in c:\\programdata\\anaconda3\\envs\\bayer_app\\lib\\site-packages (from seaborn) (1.1.2)\n",
      "Requirement already satisfied: scipy>=1.0 in c:\\users\\pauls\\appdata\\roaming\\python\\python37\\site-packages (from seaborn) (1.4.1)\n",
      "Requirement already satisfied: certifi>=2020.06.20 in c:\\programdata\\anaconda3\\envs\\bayer_app\\lib\\site-packages (from matplotlib>=2.2->seaborn) (2020.6.20)\n",
      "Requirement already satisfied: pillow>=6.2.0 in c:\\programdata\\anaconda3\\envs\\bayer_app\\lib\\site-packages (from matplotlib>=2.2->seaborn) (7.2.0)\n",
      "Requirement already satisfied: pyparsing!=2.0.4,!=2.1.2,!=2.1.6,>=2.0.3 in c:\\programdata\\anaconda3\\envs\\bayer_app\\lib\\site-packages (from matplotlib>=2.2->seaborn) (2.4.7)\n",
      "Requirement already satisfied: python-dateutil>=2.1 in c:\\programdata\\anaconda3\\envs\\bayer_app\\lib\\site-packages (from matplotlib>=2.2->seaborn) (2.8.1)\n",
      "Requirement already satisfied: kiwisolver>=1.0.1 in c:\\programdata\\anaconda3\\envs\\bayer_app\\lib\\site-packages (from matplotlib>=2.2->seaborn) (1.2.0)\n",
      "Requirement already satisfied: cycler>=0.10 in c:\\programdata\\anaconda3\\envs\\bayer_app\\lib\\site-packages (from matplotlib>=2.2->seaborn) (0.10.0)\n",
      "Requirement already satisfied: pytz>=2017.2 in c:\\programdata\\anaconda3\\envs\\bayer_app\\lib\\site-packages (from pandas>=0.23->seaborn) (2020.1)\n",
      "Requirement already satisfied: six>=1.5 in c:\\programdata\\anaconda3\\envs\\bayer_app\\lib\\site-packages (from python-dateutil>=2.1->matplotlib>=2.2->seaborn) (1.15.0)\n",
      "Requirement already satisfied: spacy in c:\\programdata\\anaconda3\\envs\\bayer_app\\lib\\site-packages (2.3.2)\n",
      "Requirement already satisfied: wasabi<1.1.0,>=0.4.0 in c:\\programdata\\anaconda3\\envs\\bayer_app\\lib\\site-packages (from spacy) (0.8.0)\n",
      "Requirement already satisfied: srsly<1.1.0,>=1.0.2 in c:\\programdata\\anaconda3\\envs\\bayer_app\\lib\\site-packages (from spacy) (1.0.2)\n",
      "Requirement already satisfied: catalogue<1.1.0,>=0.0.7 in c:\\programdata\\anaconda3\\envs\\bayer_app\\lib\\site-packages (from spacy) (1.0.0)\n",
      "Requirement already satisfied: tqdm<5.0.0,>=4.38.0 in c:\\programdata\\anaconda3\\envs\\bayer_app\\lib\\site-packages (from spacy) (4.49.0)\n",
      "Requirement already satisfied: blis<0.5.0,>=0.4.0 in c:\\programdata\\anaconda3\\envs\\bayer_app\\lib\\site-packages (from spacy) (0.4.1)\n",
      "Requirement already satisfied: cymem<2.1.0,>=2.0.2 in c:\\programdata\\anaconda3\\envs\\bayer_app\\lib\\site-packages (from spacy) (2.0.3)\n",
      "Requirement already satisfied: plac<1.2.0,>=0.9.6 in c:\\programdata\\anaconda3\\envs\\bayer_app\\lib\\site-packages (from spacy) (1.1.3)\n",
      "Requirement already satisfied: murmurhash<1.1.0,>=0.28.0 in c:\\programdata\\anaconda3\\envs\\bayer_app\\lib\\site-packages (from spacy) (1.0.2)\n",
      "Requirement already satisfied: requests<3.0.0,>=2.13.0 in c:\\programdata\\anaconda3\\envs\\bayer_app\\lib\\site-packages (from spacy) (2.24.0)\n",
      "Requirement already satisfied: numpy>=1.15.0 in c:\\programdata\\anaconda3\\envs\\bayer_app\\lib\\site-packages (from spacy) (1.19.2)\n",
      "Requirement already satisfied: preshed<3.1.0,>=3.0.2 in c:\\programdata\\anaconda3\\envs\\bayer_app\\lib\\site-packages (from spacy) (3.0.2)\n",
      "Requirement already satisfied: thinc==7.4.1 in c:\\programdata\\anaconda3\\envs\\bayer_app\\lib\\site-packages (from spacy) (7.4.1)\n",
      "Requirement already satisfied: setuptools in c:\\programdata\\anaconda3\\envs\\bayer_app\\lib\\site-packages (from spacy) (49.6.0.post20200814)\n",
      "Requirement already satisfied: importlib-metadata>=0.20; python_version < \"3.8\" in c:\\programdata\\anaconda3\\envs\\bayer_app\\lib\\site-packages (from catalogue<1.1.0,>=0.0.7->spacy) (1.7.0)\n",
      "Requirement already satisfied: idna<3,>=2.5 in c:\\programdata\\anaconda3\\envs\\bayer_app\\lib\\site-packages (from requests<3.0.0,>=2.13.0->spacy) (2.10)\n",
      "Requirement already satisfied: certifi>=2017.4.17 in c:\\programdata\\anaconda3\\envs\\bayer_app\\lib\\site-packages (from requests<3.0.0,>=2.13.0->spacy) (2020.6.20)\n",
      "Requirement already satisfied: urllib3!=1.25.0,!=1.25.1,<1.26,>=1.21.1 in c:\\programdata\\anaconda3\\envs\\bayer_app\\lib\\site-packages (from requests<3.0.0,>=2.13.0->spacy) (1.25.10)\n",
      "Requirement already satisfied: chardet<4,>=3.0.2 in c:\\programdata\\anaconda3\\envs\\bayer_app\\lib\\site-packages (from requests<3.0.0,>=2.13.0->spacy) (3.0.4)\n",
      "Requirement already satisfied: zipp>=0.5 in c:\\programdata\\anaconda3\\envs\\bayer_app\\lib\\site-packages (from importlib-metadata>=0.20; python_version < \"3.8\"->catalogue<1.1.0,>=0.0.7->spacy) (3.1.0)\n",
      "Requirement already satisfied: nltk in c:\\programdata\\anaconda3\\envs\\bayer_app\\lib\\site-packages (3.5)\n",
      "Requirement already satisfied: tqdm in c:\\programdata\\anaconda3\\envs\\bayer_app\\lib\\site-packages (from nltk) (4.49.0)\n",
      "Requirement already satisfied: click in c:\\programdata\\anaconda3\\envs\\bayer_app\\lib\\site-packages (from nltk) (7.1.2)\n",
      "Requirement already satisfied: regex in c:\\programdata\\anaconda3\\envs\\bayer_app\\lib\\site-packages (from nltk) (2020.7.14)\n",
      "Requirement already satisfied: joblib in c:\\programdata\\anaconda3\\envs\\bayer_app\\lib\\site-packages (from nltk) (0.16.0)\n",
      "Requirement already satisfied: PyPDF2 in c:\\programdata\\anaconda3\\envs\\bayer_app\\lib\\site-packages (1.26.0)\n",
      "Requirement already satisfied: sklearn in c:\\programdata\\anaconda3\\envs\\bayer_app\\lib\\site-packages (0.0)\n",
      "Requirement already satisfied: scikit-learn in c:\\programdata\\anaconda3\\envs\\bayer_app\\lib\\site-packages (from sklearn) (0.23.2)\n",
      "Requirement already satisfied: threadpoolctl>=2.0.0 in c:\\programdata\\anaconda3\\envs\\bayer_app\\lib\\site-packages (from scikit-learn->sklearn) (2.1.0)\n",
      "Requirement already satisfied: numpy>=1.13.3 in c:\\programdata\\anaconda3\\envs\\bayer_app\\lib\\site-packages (from scikit-learn->sklearn) (1.19.2)\n",
      "Requirement already satisfied: scipy>=0.19.1 in c:\\users\\pauls\\appdata\\roaming\\python\\python37\\site-packages (from scikit-learn->sklearn) (1.4.1)\n",
      "Requirement already satisfied: joblib>=0.11 in c:\\programdata\\anaconda3\\envs\\bayer_app\\lib\\site-packages (from scikit-learn->sklearn) (0.16.0)\n"
     ]
    }
   ],
   "source": [
    "!pip install pandas\n",
    "!pip install xlrd\n",
    "!pip install seaborn\n",
    "!pip install spacy\n",
    "!pip install nltk\n",
    "!pip install PyPDF2\n",
    "!pip install sklearn"
   ]
  },
  {
   "cell_type": "code",
   "execution_count": 400,
   "metadata": {},
   "outputs": [
    {
     "name": "stdout",
     "output_type": "stream",
     "text": [
      "Requirement already satisfied: en_core_web_sm==2.3.1 from https://github.com/explosion/spacy-models/releases/download/en_core_web_sm-2.3.1/en_core_web_sm-2.3.1.tar.gz#egg=en_core_web_sm==2.3.1 in c:\\programdata\\anaconda3\\envs\\bayer_app\\lib\\site-packages (2.3.1)\n",
      "Requirement already satisfied: spacy<2.4.0,>=2.3.0 in c:\\programdata\\anaconda3\\envs\\bayer_app\\lib\\site-packages (from en_core_web_sm==2.3.1) (2.3.2)\n",
      "Requirement already satisfied: setuptools in c:\\programdata\\anaconda3\\envs\\bayer_app\\lib\\site-packages (from spacy<2.4.0,>=2.3.0->en_core_web_sm==2.3.1) (49.6.0.post20200814)\n",
      "Requirement already satisfied: plac<1.2.0,>=0.9.6 in c:\\programdata\\anaconda3\\envs\\bayer_app\\lib\\site-packages (from spacy<2.4.0,>=2.3.0->en_core_web_sm==2.3.1) (1.1.3)\n",
      "Requirement already satisfied: numpy>=1.15.0 in c:\\programdata\\anaconda3\\envs\\bayer_app\\lib\\site-packages (from spacy<2.4.0,>=2.3.0->en_core_web_sm==2.3.1) (1.19.2)\n",
      "Requirement already satisfied: murmurhash<1.1.0,>=0.28.0 in c:\\programdata\\anaconda3\\envs\\bayer_app\\lib\\site-packages (from spacy<2.4.0,>=2.3.0->en_core_web_sm==2.3.1) (1.0.2)\n",
      "Requirement already satisfied: requests<3.0.0,>=2.13.0 in c:\\programdata\\anaconda3\\envs\\bayer_app\\lib\\site-packages (from spacy<2.4.0,>=2.3.0->en_core_web_sm==2.3.1) (2.24.0)\n",
      "Requirement already satisfied: preshed<3.1.0,>=3.0.2 in c:\\programdata\\anaconda3\\envs\\bayer_app\\lib\\site-packages (from spacy<2.4.0,>=2.3.0->en_core_web_sm==2.3.1) (3.0.2)\n",
      "Requirement already satisfied: srsly<1.1.0,>=1.0.2 in c:\\programdata\\anaconda3\\envs\\bayer_app\\lib\\site-packages (from spacy<2.4.0,>=2.3.0->en_core_web_sm==2.3.1) (1.0.2)\n",
      "Requirement already satisfied: thinc==7.4.1 in c:\\programdata\\anaconda3\\envs\\bayer_app\\lib\\site-packages (from spacy<2.4.0,>=2.3.0->en_core_web_sm==2.3.1) (7.4.1)\n",
      "Requirement already satisfied: blis<0.5.0,>=0.4.0 in c:\\programdata\\anaconda3\\envs\\bayer_app\\lib\\site-packages (from spacy<2.4.0,>=2.3.0->en_core_web_sm==2.3.1) (0.4.1)\n",
      "Requirement already satisfied: wasabi<1.1.0,>=0.4.0 in c:\\programdata\\anaconda3\\envs\\bayer_app\\lib\\site-packages (from spacy<2.4.0,>=2.3.0->en_core_web_sm==2.3.1) (0.8.0)\n",
      "Requirement already satisfied: catalogue<1.1.0,>=0.0.7 in c:\\programdata\\anaconda3\\envs\\bayer_app\\lib\\site-packages (from spacy<2.4.0,>=2.3.0->en_core_web_sm==2.3.1) (1.0.0)\n",
      "Requirement already satisfied: tqdm<5.0.0,>=4.38.0 in c:\\programdata\\anaconda3\\envs\\bayer_app\\lib\\site-packages (from spacy<2.4.0,>=2.3.0->en_core_web_sm==2.3.1) (4.49.0)\n",
      "Requirement already satisfied: cymem<2.1.0,>=2.0.2 in c:\\programdata\\anaconda3\\envs\\bayer_app\\lib\\site-packages (from spacy<2.4.0,>=2.3.0->en_core_web_sm==2.3.1) (2.0.3)\n",
      "Requirement already satisfied: urllib3!=1.25.0,!=1.25.1,<1.26,>=1.21.1 in c:\\programdata\\anaconda3\\envs\\bayer_app\\lib\\site-packages (from requests<3.0.0,>=2.13.0->spacy<2.4.0,>=2.3.0->en_core_web_sm==2.3.1) (1.25.10)\n",
      "Requirement already satisfied: certifi>=2017.4.17 in c:\\programdata\\anaconda3\\envs\\bayer_app\\lib\\site-packages (from requests<3.0.0,>=2.13.0->spacy<2.4.0,>=2.3.0->en_core_web_sm==2.3.1) (2020.6.20)\n",
      "Requirement already satisfied: idna<3,>=2.5 in c:\\programdata\\anaconda3\\envs\\bayer_app\\lib\\site-packages (from requests<3.0.0,>=2.13.0->spacy<2.4.0,>=2.3.0->en_core_web_sm==2.3.1) (2.10)\n",
      "Requirement already satisfied: chardet<4,>=3.0.2 in c:\\programdata\\anaconda3\\envs\\bayer_app\\lib\\site-packages (from requests<3.0.0,>=2.13.0->spacy<2.4.0,>=2.3.0->en_core_web_sm==2.3.1) (3.0.4)\n",
      "Requirement already satisfied: importlib-metadata>=0.20; python_version < \"3.8\" in c:\\programdata\\anaconda3\\envs\\bayer_app\\lib\\site-packages (from catalogue<1.1.0,>=0.0.7->spacy<2.4.0,>=2.3.0->en_core_web_sm==2.3.1) (1.7.0)\n",
      "Requirement already satisfied: zipp>=0.5 in c:\\programdata\\anaconda3\\envs\\bayer_app\\lib\\site-packages (from importlib-metadata>=0.20; python_version < \"3.8\"->catalogue<1.1.0,>=0.0.7->spacy<2.4.0,>=2.3.0->en_core_web_sm==2.3.1) (3.1.0)\n",
      "symbolic link created for C:\\ProgramData\\Anaconda3\\envs\\bayer_app\\lib\\site-packages\\spacy\\data\\en <<===>> C:\\ProgramData\\Anaconda3\\envs\\bayer_app\\lib\\site-packages\\en_core_web_sm\n",
      "[+] Download and installation successful\n",
      "You can now load the model via spacy.load('en_core_web_sm')\n",
      "[+] Linking successful\n",
      "C:\\ProgramData\\Anaconda3\\envs\\bayer_app\\lib\\site-packages\\en_core_web_sm -->\n",
      "C:\\ProgramData\\Anaconda3\\envs\\bayer_app\\lib\\site-packages\\spacy\\data\\en\n",
      "You can now load the model via spacy.load('en')\n"
     ]
    }
   ],
   "source": [
    "!python -m spacy download en "
   ]
  },
  {
   "cell_type": "code",
   "execution_count": 401,
   "metadata": {},
   "outputs": [],
   "source": [
    "import pandas as pd"
   ]
  },
  {
   "cell_type": "code",
   "execution_count": 402,
   "metadata": {},
   "outputs": [],
   "source": [
    "# Constants\n",
    "color_bayer_dark_blue = '#333399'\n",
    "color_bayer_light_blue = '#01BEFF'\n",
    "color_bayer_green = '#56D500'"
   ]
  },
  {
   "cell_type": "code",
   "execution_count": 403,
   "metadata": {},
   "outputs": [],
   "source": [
    "# load data\n",
    "df = pd.read_excel('data/sentences_with_sentiment_final.xls')"
   ]
  },
  {
   "cell_type": "code",
   "execution_count": 404,
   "metadata": {},
   "outputs": [
    {
     "data": {
      "text/html": [
       "<div>\n",
       "<style scoped>\n",
       "    .dataframe tbody tr th:only-of-type {\n",
       "        vertical-align: middle;\n",
       "    }\n",
       "\n",
       "    .dataframe tbody tr th {\n",
       "        vertical-align: top;\n",
       "    }\n",
       "\n",
       "    .dataframe thead th {\n",
       "        text-align: right;\n",
       "    }\n",
       "</style>\n",
       "<table border=\"1\" class=\"dataframe\">\n",
       "  <thead>\n",
       "    <tr style=\"text-align: right;\">\n",
       "      <th></th>\n",
       "      <th>ID</th>\n",
       "      <th>Sentence</th>\n",
       "      <th>Positive</th>\n",
       "      <th>Negative</th>\n",
       "      <th>Neutral</th>\n",
       "    </tr>\n",
       "  </thead>\n",
       "  <tbody>\n",
       "    <tr>\n",
       "      <th>0</th>\n",
       "      <td>1</td>\n",
       "      <td>The results in 2nd line treatment show an ORR ...</td>\n",
       "      <td>1</td>\n",
       "      <td>0</td>\n",
       "      <td>0</td>\n",
       "    </tr>\n",
       "    <tr>\n",
       "      <th>1</th>\n",
       "      <td>2</td>\n",
       "      <td>The long duration of response and high durable...</td>\n",
       "      <td>1</td>\n",
       "      <td>0</td>\n",
       "      <td>0</td>\n",
       "    </tr>\n",
       "    <tr>\n",
       "      <th>2</th>\n",
       "      <td>3</td>\n",
       "      <td>The median OS time in the updated results exce...</td>\n",
       "      <td>0</td>\n",
       "      <td>0</td>\n",
       "      <td>1</td>\n",
       "    </tr>\n",
       "    <tr>\n",
       "      <th>3</th>\n",
       "      <td>4</td>\n",
       "      <td>Therefore, the clinical benefit in 2nd line tr...</td>\n",
       "      <td>1</td>\n",
       "      <td>0</td>\n",
       "      <td>0</td>\n",
       "    </tr>\n",
       "    <tr>\n",
       "      <th>4</th>\n",
       "      <td>5</td>\n",
       "      <td>The data provided in 1st line, although prelim...</td>\n",
       "      <td>1</td>\n",
       "      <td>0</td>\n",
       "      <td>0</td>\n",
       "    </tr>\n",
       "  </tbody>\n",
       "</table>\n",
       "</div>"
      ],
      "text/plain": [
       "   ID                                           Sentence  Positive  Negative  \\\n",
       "0   1  The results in 2nd line treatment show an ORR ...         1         0   \n",
       "1   2  The long duration of response and high durable...         1         0   \n",
       "2   3  The median OS time in the updated results exce...         0         0   \n",
       "3   4  Therefore, the clinical benefit in 2nd line tr...         1         0   \n",
       "4   5  The data provided in 1st line, although prelim...         1         0   \n",
       "\n",
       "   Neutral  \n",
       "0        0  \n",
       "1        0  \n",
       "2        1  \n",
       "3        0  \n",
       "4        0  "
      ]
     },
     "execution_count": 404,
     "metadata": {},
     "output_type": "execute_result"
    }
   ],
   "source": [
    "df.head()"
   ]
  },
  {
   "cell_type": "markdown",
   "metadata": {},
   "source": [
    "## Missing Values"
   ]
  },
  {
   "cell_type": "code",
   "execution_count": 405,
   "metadata": {},
   "outputs": [
    {
     "data": {
      "text/plain": [
       "ID          0\n",
       "Sentence    0\n",
       "Positive    0\n",
       "Negative    0\n",
       "Neutral     0\n",
       "dtype: int64"
      ]
     },
     "execution_count": 405,
     "metadata": {},
     "output_type": "execute_result"
    }
   ],
   "source": [
    "# check for missing values --> no missing values\n",
    "df.isnull().sum()"
   ]
  },
  {
   "cell_type": "markdown",
   "metadata": {},
   "source": [
    "## Feature Engineering"
   ]
  },
  {
   "cell_type": "code",
   "execution_count": 406,
   "metadata": {},
   "outputs": [],
   "source": [
    "import spacy\n",
    "import string\n",
    "from spacy.lang.en.stop_words import STOP_WORDS\n",
    "from spacy.lang.en import English"
   ]
  },
  {
   "cell_type": "code",
   "execution_count": 407,
   "metadata": {},
   "outputs": [],
   "source": [
    "# add feature that describes sentiment as one number\n",
    "df['Sentiment'] = df.apply(lambda x: 0 if x['Negative'] else 1 if x['Neutral'] else 2, axis=1)\n",
    "df['Sentiment_Text'] = df.apply(lambda x: 'Negativ' if x['Negative'] else 'Neutral' if x['Neutral'] else 'Positiv', axis=1)"
   ]
  },
  {
   "cell_type": "code",
   "execution_count": 408,
   "metadata": {},
   "outputs": [
    {
     "data": {
      "text/plain": [
       "Positive    160\n",
       "Negative     36\n",
       "Neutral      70\n",
       "dtype: int64"
      ]
     },
     "execution_count": 408,
     "metadata": {},
     "output_type": "execute_result"
    }
   ],
   "source": [
    "# check if sentence has two sentiments --> no\n",
    "df[['Positive', 'Negative', 'Neutral']].sum()"
   ]
  },
  {
   "cell_type": "code",
   "execution_count": 409,
   "metadata": {},
   "outputs": [
    {
     "data": {
      "text/plain": [
       "2    160\n",
       "1     70\n",
       "0     36\n",
       "Name: Sentiment, dtype: int64"
      ]
     },
     "execution_count": 409,
     "metadata": {},
     "output_type": "execute_result"
    }
   ],
   "source": [
    "df['Sentiment'].value_counts()"
   ]
  },
  {
   "cell_type": "code",
   "execution_count": 410,
   "metadata": {},
   "outputs": [],
   "source": [
    "# construct df with two sentiments by merging neutral and negative (the ones with the fewest examples)\n",
    "df['Sentiment_Easy'] = df['Sentiment'].apply(lambda x: 1 if x == 2 else 0)\n",
    "df['Sentiment_Easy_Text'] = df['Sentiment_Easy'].apply(lambda x: 'Positiv' if x == 1 else 'Other')"
   ]
  },
  {
   "cell_type": "code",
   "execution_count": 411,
   "metadata": {},
   "outputs": [
    {
     "data": {
      "text/html": [
       "<div>\n",
       "<style scoped>\n",
       "    .dataframe tbody tr th:only-of-type {\n",
       "        vertical-align: middle;\n",
       "    }\n",
       "\n",
       "    .dataframe tbody tr th {\n",
       "        vertical-align: top;\n",
       "    }\n",
       "\n",
       "    .dataframe thead th {\n",
       "        text-align: right;\n",
       "    }\n",
       "</style>\n",
       "<table border=\"1\" class=\"dataframe\">\n",
       "  <thead>\n",
       "    <tr style=\"text-align: right;\">\n",
       "      <th></th>\n",
       "      <th>ID</th>\n",
       "      <th>Sentence</th>\n",
       "      <th>Positive</th>\n",
       "      <th>Negative</th>\n",
       "      <th>Neutral</th>\n",
       "      <th>Sentiment</th>\n",
       "      <th>Sentiment_Text</th>\n",
       "      <th>Sentiment_Easy</th>\n",
       "      <th>Sentiment_Easy_Text</th>\n",
       "    </tr>\n",
       "  </thead>\n",
       "  <tbody>\n",
       "    <tr>\n",
       "      <th>0</th>\n",
       "      <td>1</td>\n",
       "      <td>The results in 2nd line treatment show an ORR ...</td>\n",
       "      <td>1</td>\n",
       "      <td>0</td>\n",
       "      <td>0</td>\n",
       "      <td>2</td>\n",
       "      <td>Positiv</td>\n",
       "      <td>1</td>\n",
       "      <td>Positiv</td>\n",
       "    </tr>\n",
       "    <tr>\n",
       "      <th>1</th>\n",
       "      <td>2</td>\n",
       "      <td>The long duration of response and high durable...</td>\n",
       "      <td>1</td>\n",
       "      <td>0</td>\n",
       "      <td>0</td>\n",
       "      <td>2</td>\n",
       "      <td>Positiv</td>\n",
       "      <td>1</td>\n",
       "      <td>Positiv</td>\n",
       "    </tr>\n",
       "    <tr>\n",
       "      <th>2</th>\n",
       "      <td>3</td>\n",
       "      <td>The median OS time in the updated results exce...</td>\n",
       "      <td>0</td>\n",
       "      <td>0</td>\n",
       "      <td>1</td>\n",
       "      <td>1</td>\n",
       "      <td>Neutral</td>\n",
       "      <td>0</td>\n",
       "      <td>Other</td>\n",
       "    </tr>\n",
       "    <tr>\n",
       "      <th>3</th>\n",
       "      <td>4</td>\n",
       "      <td>Therefore, the clinical benefit in 2nd line tr...</td>\n",
       "      <td>1</td>\n",
       "      <td>0</td>\n",
       "      <td>0</td>\n",
       "      <td>2</td>\n",
       "      <td>Positiv</td>\n",
       "      <td>1</td>\n",
       "      <td>Positiv</td>\n",
       "    </tr>\n",
       "    <tr>\n",
       "      <th>4</th>\n",
       "      <td>5</td>\n",
       "      <td>The data provided in 1st line, although prelim...</td>\n",
       "      <td>1</td>\n",
       "      <td>0</td>\n",
       "      <td>0</td>\n",
       "      <td>2</td>\n",
       "      <td>Positiv</td>\n",
       "      <td>1</td>\n",
       "      <td>Positiv</td>\n",
       "    </tr>\n",
       "  </tbody>\n",
       "</table>\n",
       "</div>"
      ],
      "text/plain": [
       "   ID                                           Sentence  Positive  Negative  \\\n",
       "0   1  The results in 2nd line treatment show an ORR ...         1         0   \n",
       "1   2  The long duration of response and high durable...         1         0   \n",
       "2   3  The median OS time in the updated results exce...         0         0   \n",
       "3   4  Therefore, the clinical benefit in 2nd line tr...         1         0   \n",
       "4   5  The data provided in 1st line, although prelim...         1         0   \n",
       "\n",
       "   Neutral  Sentiment Sentiment_Text  Sentiment_Easy Sentiment_Easy_Text  \n",
       "0        0          2        Positiv               1             Positiv  \n",
       "1        0          2        Positiv               1             Positiv  \n",
       "2        1          1        Neutral               0               Other  \n",
       "3        0          2        Positiv               1             Positiv  \n",
       "4        0          2        Positiv               1             Positiv  "
      ]
     },
     "execution_count": 411,
     "metadata": {},
     "output_type": "execute_result"
    }
   ],
   "source": [
    "df.head(5)"
   ]
  },
  {
   "cell_type": "code",
   "execution_count": 412,
   "metadata": {},
   "outputs": [
    {
     "data": {
      "text/plain": [
       "1    160\n",
       "0    106\n",
       "Name: Sentiment_Easy, dtype: int64"
      ]
     },
     "execution_count": 412,
     "metadata": {},
     "output_type": "execute_result"
    }
   ],
   "source": [
    "# check if there are only two categories after merging neutral and negative\n",
    "df['Sentiment_Easy'].value_counts()"
   ]
  },
  {
   "cell_type": "code",
   "execution_count": 413,
   "metadata": {},
   "outputs": [],
   "source": [
    "# remove punctiation, stop words and lemmatisation\n",
    "nlp = spacy.load('en')\n",
    "stop_words = spacy.lang.en.stop_words.STOP_WORDS\n",
    "parser = English()\n",
    "\n",
    "def clean_sentence(sentence):\n",
    "    # convert sentence into tokens (words)\n",
    "    sentence = nlp(sentence)\n",
    "    # Lemmatizing  \n",
    "    sentence = [word.lemma_.lower().strip() for word in sentence]\n",
    "   \n",
    "    # remove stop words\n",
    "    return [word for word in sentence if word not in stop_words and word not in string.punctuation]\n",
    "    \n",
    "\n",
    "df['Sentence_Cleaned'] = df['Sentence'].apply(lambda x: \" \".join(clean_sentence(x)))"
   ]
  },
  {
   "cell_type": "code",
   "execution_count": 414,
   "metadata": {},
   "outputs": [
    {
     "data": {
      "text/html": [
       "<div>\n",
       "<style scoped>\n",
       "    .dataframe tbody tr th:only-of-type {\n",
       "        vertical-align: middle;\n",
       "    }\n",
       "\n",
       "    .dataframe tbody tr th {\n",
       "        vertical-align: top;\n",
       "    }\n",
       "\n",
       "    .dataframe thead th {\n",
       "        text-align: right;\n",
       "    }\n",
       "</style>\n",
       "<table border=\"1\" class=\"dataframe\">\n",
       "  <thead>\n",
       "    <tr style=\"text-align: right;\">\n",
       "      <th></th>\n",
       "      <th>ID</th>\n",
       "      <th>Sentence</th>\n",
       "      <th>Positive</th>\n",
       "      <th>Negative</th>\n",
       "      <th>Neutral</th>\n",
       "      <th>Sentiment</th>\n",
       "      <th>Sentiment_Text</th>\n",
       "      <th>Sentiment_Easy</th>\n",
       "      <th>Sentiment_Easy_Text</th>\n",
       "      <th>Sentence_Cleaned</th>\n",
       "    </tr>\n",
       "  </thead>\n",
       "  <tbody>\n",
       "    <tr>\n",
       "      <th>0</th>\n",
       "      <td>1</td>\n",
       "      <td>The results in 2nd line treatment show an ORR ...</td>\n",
       "      <td>1</td>\n",
       "      <td>0</td>\n",
       "      <td>0</td>\n",
       "      <td>2</td>\n",
       "      <td>Positiv</td>\n",
       "      <td>1</td>\n",
       "      <td>Positiv</td>\n",
       "      <td>result 2nd line treatment orr 33 patient durab...</td>\n",
       "    </tr>\n",
       "  </tbody>\n",
       "</table>\n",
       "</div>"
      ],
      "text/plain": [
       "   ID                                           Sentence  Positive  Negative  \\\n",
       "0   1  The results in 2nd line treatment show an ORR ...         1         0   \n",
       "\n",
       "   Neutral  Sentiment Sentiment_Text  Sentiment_Easy Sentiment_Easy_Text  \\\n",
       "0        0          2        Positiv               1             Positiv   \n",
       "\n",
       "                                    Sentence_Cleaned  \n",
       "0  result 2nd line treatment orr 33 patient durab...  "
      ]
     },
     "execution_count": 414,
     "metadata": {},
     "output_type": "execute_result"
    }
   ],
   "source": [
    "df.head(1)"
   ]
  },
  {
   "cell_type": "markdown",
   "metadata": {},
   "source": [
    "## Data Exploration"
   ]
  },
  {
   "cell_type": "code",
   "execution_count": 415,
   "metadata": {},
   "outputs": [],
   "source": [
    "import nltk\n",
    "import re\n",
    "import PyPDF2\n",
    "import seaborn as sns\n",
    "import matplotlib.pyplot as plt\n",
    "from collections import Counter\n",
    "from nltk.collocations import BigramCollocationFinder\n",
    "from nltk import word_tokenize\n",
    "from os import listdir\n",
    "from os.path import isfile, join"
   ]
  },
  {
   "cell_type": "code",
   "execution_count": 416,
   "metadata": {},
   "outputs": [
    {
     "data": {
      "text/html": [
       "<div>\n",
       "<style scoped>\n",
       "    .dataframe tbody tr th:only-of-type {\n",
       "        vertical-align: middle;\n",
       "    }\n",
       "\n",
       "    .dataframe tbody tr th {\n",
       "        vertical-align: top;\n",
       "    }\n",
       "\n",
       "    .dataframe thead th {\n",
       "        text-align: right;\n",
       "    }\n",
       "</style>\n",
       "<table border=\"1\" class=\"dataframe\">\n",
       "  <thead>\n",
       "    <tr style=\"text-align: right;\">\n",
       "      <th></th>\n",
       "      <th>count</th>\n",
       "      <th>mean</th>\n",
       "      <th>std</th>\n",
       "      <th>min</th>\n",
       "      <th>25%</th>\n",
       "      <th>50%</th>\n",
       "      <th>75%</th>\n",
       "      <th>max</th>\n",
       "    </tr>\n",
       "  </thead>\n",
       "  <tbody>\n",
       "    <tr>\n",
       "      <th>ID</th>\n",
       "      <td>266.0</td>\n",
       "      <td>133.500000</td>\n",
       "      <td>76.931788</td>\n",
       "      <td>1.0</td>\n",
       "      <td>67.25</td>\n",
       "      <td>133.5</td>\n",
       "      <td>199.75</td>\n",
       "      <td>266.0</td>\n",
       "    </tr>\n",
       "    <tr>\n",
       "      <th>Positive</th>\n",
       "      <td>266.0</td>\n",
       "      <td>0.601504</td>\n",
       "      <td>0.490511</td>\n",
       "      <td>0.0</td>\n",
       "      <td>0.00</td>\n",
       "      <td>1.0</td>\n",
       "      <td>1.00</td>\n",
       "      <td>1.0</td>\n",
       "    </tr>\n",
       "    <tr>\n",
       "      <th>Negative</th>\n",
       "      <td>266.0</td>\n",
       "      <td>0.135338</td>\n",
       "      <td>0.342729</td>\n",
       "      <td>0.0</td>\n",
       "      <td>0.00</td>\n",
       "      <td>0.0</td>\n",
       "      <td>0.00</td>\n",
       "      <td>1.0</td>\n",
       "    </tr>\n",
       "    <tr>\n",
       "      <th>Neutral</th>\n",
       "      <td>266.0</td>\n",
       "      <td>0.263158</td>\n",
       "      <td>0.441177</td>\n",
       "      <td>0.0</td>\n",
       "      <td>0.00</td>\n",
       "      <td>0.0</td>\n",
       "      <td>1.00</td>\n",
       "      <td>1.0</td>\n",
       "    </tr>\n",
       "    <tr>\n",
       "      <th>Sentiment</th>\n",
       "      <td>266.0</td>\n",
       "      <td>1.466165</td>\n",
       "      <td>0.722144</td>\n",
       "      <td>0.0</td>\n",
       "      <td>1.00</td>\n",
       "      <td>2.0</td>\n",
       "      <td>2.00</td>\n",
       "      <td>2.0</td>\n",
       "    </tr>\n",
       "    <tr>\n",
       "      <th>Sentiment_Easy</th>\n",
       "      <td>266.0</td>\n",
       "      <td>0.601504</td>\n",
       "      <td>0.490511</td>\n",
       "      <td>0.0</td>\n",
       "      <td>0.00</td>\n",
       "      <td>1.0</td>\n",
       "      <td>1.00</td>\n",
       "      <td>1.0</td>\n",
       "    </tr>\n",
       "  </tbody>\n",
       "</table>\n",
       "</div>"
      ],
      "text/plain": [
       "                count        mean        std  min    25%    50%     75%    max\n",
       "ID              266.0  133.500000  76.931788  1.0  67.25  133.5  199.75  266.0\n",
       "Positive        266.0    0.601504   0.490511  0.0   0.00    1.0    1.00    1.0\n",
       "Negative        266.0    0.135338   0.342729  0.0   0.00    0.0    0.00    1.0\n",
       "Neutral         266.0    0.263158   0.441177  0.0   0.00    0.0    1.00    1.0\n",
       "Sentiment       266.0    1.466165   0.722144  0.0   1.00    2.0    2.00    2.0\n",
       "Sentiment_Easy  266.0    0.601504   0.490511  0.0   0.00    1.0    1.00    1.0"
      ]
     },
     "execution_count": 416,
     "metadata": {},
     "output_type": "execute_result"
    }
   ],
   "source": [
    "df.describe().transpose()"
   ]
  },
  {
   "cell_type": "code",
   "execution_count": 417,
   "metadata": {},
   "outputs": [
    {
     "data": {
      "text/plain": [
       "Positive  Negative  Neutral\n",
       "1         0         0          160\n",
       "0         0         1           70\n",
       "          1         0           36\n",
       "dtype: int64"
      ]
     },
     "execution_count": 417,
     "metadata": {},
     "output_type": "execute_result"
    }
   ],
   "source": [
    "# How many examples do we have per vote\n",
    "df[['Positive', 'Negative', 'Neutral']].value_counts()"
   ]
  },
  {
   "cell_type": "code",
   "execution_count": 418,
   "metadata": {},
   "outputs": [],
   "source": [
    "bayer_colors = [color_bayer_green, color_bayer_dark_blue, color_bayer_light_blue]\n",
    "customPalette = sns.set_palette(sns.color_palette(bayer_colors))"
   ]
  },
  {
   "cell_type": "code",
   "execution_count": 419,
   "metadata": {},
   "outputs": [
    {
     "data": {
      "text/plain": [
       "[Text(0.5, 0, 'Sentiment'),\n",
       " Text(0, 0.5, 'Anzahl'),\n",
       " Text(0.5, 1.0, 'Anzahl Beispiele per Sentiment')]"
      ]
     },
     "execution_count": 419,
     "metadata": {},
     "output_type": "execute_result"
    },
    {
     "data": {
      "image/png": "[encoded data removed]",
      "text/plain": [
       "<Figure size 432x288 with 1 Axes>"
      ]
     },
     "metadata": {
      "needs_background": "light"
     },
     "output_type": "display_data"
    }
   ],
   "source": [
    "ax = sns.countplot(x='Sentiment_Text', data=df, palette=customPalette, order=['Negativ', 'Neutral', 'Positiv'] )\n",
    "ax.set(xlabel=\"Sentiment\", ylabel = \"Anzahl\", title=\"Anzahl Beispiele per Sentiment\")"
   ]
  },
  {
   "cell_type": "code",
   "execution_count": 420,
   "metadata": {},
   "outputs": [
    {
     "data": {
      "text/plain": [
       "True    266\n",
       "dtype: int64"
      ]
     },
     "execution_count": 420,
     "metadata": {},
     "output_type": "execute_result"
    }
   ],
   "source": [
    "# check if there is more than one sentiment assigned to same sentence --> there is not\n",
    "df.apply(lambda x: False if sum([x['Negative'], x['Neutral'], x['Positive']]) > 1 else True, axis=1).value_counts()"
   ]
  },
  {
   "cell_type": "markdown",
   "metadata": {},
   "source": [
    "### Find relevant sentences"
   ]
  },
  {
   "cell_type": "code",
   "execution_count": 421,
   "metadata": {},
   "outputs": [
    {
     "name": "stdout",
     "output_type": "stream",
     "text": [
      "study: 102\n",
      "safety: 81\n",
      "datum: 65\n",
      "patient: 52\n",
      "efficacy: 47\n",
      "treatment: 40\n",
      "clinical: 38\n",
      "product: 38\n",
      "consider: 35\n",
      "profile: 31\n",
      "support: 30\n",
      "ct: 30\n",
      "p10: 30\n",
      "dose: 27\n",
      "provide: 25\n",
      "result: 23\n",
      "subject: 23\n",
      "compare: 22\n",
      "mg: 22\n",
      "week: 22\n",
      "additional: 21\n",
      "combination: 21\n",
      "difference: 20\n",
      "effect: 19\n",
      "term: 19\n"
     ]
    }
   ],
   "source": [
    "# find most common words with frequency\n",
    "sentences_list = df['Sentence_Cleaned']\n",
    "sentences = \" \".join(sentences_list)\n",
    "doc = nlp(sentences)\n",
    "words = [token.text for token in doc if token.is_stop != True and token.is_punct != True]\n",
    "word_freq = Counter(words)\n",
    "most_common_words_count = word_freq.most_common(25)\n",
    "\n",
    "for i in most_common_words_count:\n",
    "    print(f'{i[0]}: {i[1]}')"
   ]
  },
  {
   "cell_type": "code",
   "execution_count": 422,
   "metadata": {},
   "outputs": [],
   "source": [
    "# extract most common words\n",
    "most_common_words = [' ' + x[0] for x in most_common_words_count]"
   ]
  },
  {
   "cell_type": "code",
   "execution_count": 423,
   "metadata": {},
   "outputs": [],
   "source": [
    "# check how many common words a sentence has\n",
    "def count_common_words(sentences_list, most_common_words, start = 0, up_to = 5):\n",
    "    sentences_with_multiple_common_words = []\n",
    "    sentences_word_coverage = {}\n",
    "    for num in range(start,up_to):\n",
    "        for sent in sentences_list:\n",
    "            word_matches = [c_w for c_w in most_common_words if c_w in sent]\n",
    "            if  len(word_matches) > num:\n",
    "                sentences_with_multiple_common_words.append(sent)\n",
    "\n",
    "        print(f'{len(sentences_with_multiple_common_words)* 100 / len(sentences_list):.2f}% der Sätze beinhalten {str(num+1)} der Top 25 Wörter')\n",
    "        sentences_word_coverage[num+1] = len(sentences_with_multiple_common_words)* 100 / len(sentences_list)\n",
    "        sentences_with_multiple_common_words.clear()\n",
    "    return sentences_word_coverage"
   ]
  },
  {
   "cell_type": "code",
   "execution_count": 424,
   "metadata": {},
   "outputs": [
    {
     "name": "stdout",
     "output_type": "stream",
     "text": [
      "91.35% der Sätze beinhalten 1 der Top 25 Wörter\n",
      "72.93% der Sätze beinhalten 2 der Top 25 Wörter\n",
      "49.25% der Sätze beinhalten 3 der Top 25 Wörter\n",
      "30.83% der Sätze beinhalten 4 der Top 25 Wörter\n",
      "19.92% der Sätze beinhalten 5 der Top 25 Wörter\n"
     ]
    }
   ],
   "source": [
    "sentences_word_coverage = count_common_words(sentences_list, most_common_words)"
   ]
  },
  {
   "cell_type": "code",
   "execution_count": 425,
   "metadata": {},
   "outputs": [
    {
     "name": "stderr",
     "output_type": "stream",
     "text": [
      "No handles with labels found to put in legend.\n"
     ]
    },
    {
     "data": {
      "image/png": "[encoded data removed]",
      "text/plain": [
       "<Figure size 432x288 with 1 Axes>"
      ]
     },
     "metadata": {
      "needs_background": "light"
     },
     "output_type": "display_data"
    }
   ],
   "source": [
    "series = pd.Series(sentences_word_coverage) \n",
    "keys = sentences_word_coverage.keys()\n",
    "vals = sentences_word_coverage.values()\n",
    "\n",
    "plt.bar(keys, vals, color=color_bayer_light_blue)\n",
    "\n",
    "plt.ylabel ('Prozent der Sätze')\n",
    "plt.xlabel ('Anzahl häufiger Worte gleichzeit in einem Satz')\n",
    "plt.xticks(list(keys))\n",
    "plt.ylim(0,100)\n",
    "plt.title('Wieviel häufige Worte kommen \\ngleichzeitig in relevanten Sätzen vor', fontsize=18, pad=20)\n",
    "plt.legend (bbox_to_anchor=(1, 1), loc=\"upper right\", borderaxespad=0.)\n",
    "\n",
    "plt.show()"
   ]
  },
  {
   "cell_type": "code",
   "execution_count": 426,
   "metadata": {},
   "outputs": [
    {
     "name": "stdout",
     "output_type": "stream",
     "text": [
      "('of', 'the') 68\n",
      "('.', 'The') 67\n",
      "('in', 'the') 51\n",
      "(',', 'the') 37\n",
      "('safety', 'profile') 24\n",
      "('to', 'the') 23\n",
      "('has', 'been') 22\n",
      "('with', 'the') 21\n",
      "('profile', 'of') 21\n",
      "('patients', 'with') 20\n",
      "('on', 'the') 19\n",
      "('for', 'the') 19\n",
      "('the', 'safety') 19\n",
      "('in', 'patients') 16\n",
      "('support', 'the') 15\n",
      "('efficacy', 'of') 14\n",
      "(')', '.') 14\n",
      "('compared', 'to') 13\n",
      "('from', 'the') 13\n",
      "('safety', 'data') 13\n",
      "('the', 'reference') 13\n",
      "('to', 'be') 12\n",
      "('.', 'In') 12\n",
      "(',', 'and') 11\n",
      "('have', 'been') 11\n",
      "('clinical', 'data') 11\n",
      "('the', 'FRC') 11\n",
      "('by', 'the') 10\n"
     ]
    }
   ],
   "source": [
    "# ngram frequencies to detect relevant sentences --> might be good indicator but more reseach into \n",
    "# relevant groups required (e.g. group \"of the\" is just ctoo common everywhere)\n",
    "sentences_list = df['Sentence'].tolist()\n",
    "sentences = \" \".join(sentences_list)\n",
    "bigram_measures = nltk.collocations.BigramAssocMeasures()\n",
    "finder = BigramCollocationFinder.from_words(word_tokenize(sentences))\n",
    "for k,v in sorted(finder.ngram_fd.items(), key=lambda item: item[1], reverse=True):\n",
    "    print(k,v)\n",
    "    if v == 10:\n",
    "        break"
   ]
  },
  {
   "cell_type": "markdown",
   "metadata": {},
   "source": [
    "#### Extract important sentences from EPARs\n",
    "1. Extract only Discussion section\n",
    "2. Extract all sentences\n",
    "3. check how many sentences contain common words from provided important sentences"
   ]
  },
  {
   "cell_type": "code",
   "execution_count": 427,
   "metadata": {},
   "outputs": [],
   "source": [
    "def extract_relevant_sentences(filename, most_common_words, start, num_top_hits):\n",
    "    pages = []\n",
    "    with open(filename,'rb') as pdf_file:\n",
    "        read_pdf = PyPDF2.PdfFileReader(pdf_file)\n",
    "        number_of_pages = read_pdf.getNumPages()\n",
    "        for page_number in range(number_of_pages):   # use xrange in Py2\n",
    "            page = read_pdf.getPage(page_number)\n",
    "            pages.append(page.extractText())\n",
    "    \n",
    "    text = \" \".join(pages)\n",
    "    text = text.lower()\n",
    "    text = text.replace('\\n', ' ')\n",
    "    \n",
    "    headline_indexes = [m.end(0) for m in re.finditer('2 scientific discussion| 2. scientific discussion', text)]\n",
    " \n",
    "    # 1. Extract relevant section\n",
    "    if len(headline_indexes) > 1:\n",
    "        text = text[headline_indexes[1]:]\n",
    "        \n",
    "    # 2. extract sentences\n",
    "    doc = nlp(text)\n",
    "    \n",
    "    # 3. Count sentences with common words\n",
    "    count_common_words([x.text for x in doc.sents], most_common_words, start, num_top_hits)"
   ]
  },
  {
   "cell_type": "code",
   "execution_count": 428,
   "metadata": {},
   "outputs": [
    {
     "name": "stdout",
     "output_type": "stream",
     "text": [
      "\n",
      "0.1. gilenya-epar-public-assessment-report_en.pdf\n"
     ]
    },
    {
     "name": "stderr",
     "output_type": "stream",
     "text": [
      "PdfReadWarning: Xref table not zero-indexed. ID numbers for objects will be corrected. [pdf.py:1736]\n"
     ]
    },
    {
     "name": "stdout",
     "output_type": "stream",
     "text": [
      "36.26% der Sätze beinhalten 1 der Top 25 Wörter\n",
      "16.02% der Sätze beinhalten 2 der Top 25 Wörter\n",
      "6.84% der Sätze beinhalten 3 der Top 25 Wörter\n",
      "2.22% der Sätze beinhalten 4 der Top 25 Wörter\n",
      "0.91% der Sätze beinhalten 5 der Top 25 Wörter\n",
      "\n",
      "1.1. taltz-epar-public-assessment-report_en.pdf\n",
      "37.62% der Sätze beinhalten 1 der Top 25 Wörter\n",
      "14.77% der Sätze beinhalten 2 der Top 25 Wörter\n",
      "5.82% der Sätze beinhalten 3 der Top 25 Wörter\n",
      "2.17% der Sätze beinhalten 4 der Top 25 Wörter\n",
      "0.67% der Sätze beinhalten 5 der Top 25 Wörter\n",
      "\n",
      "2.1. temozolomide-teva-epar-public-assessment-report_en.pdf\n",
      "44.72% der Sätze beinhalten 1 der Top 25 Wörter\n",
      "21.34% der Sätze beinhalten 2 der Top 25 Wörter\n",
      "8.13% der Sätze beinhalten 3 der Top 25 Wörter\n",
      "2.03% der Sätze beinhalten 4 der Top 25 Wörter\n",
      "0.41% der Sätze beinhalten 5 der Top 25 Wörter\n",
      "\n",
      "3.1. vargatef-epar-public-assessment-report_en.pdf\n",
      "33.18% der Sätze beinhalten 1 der Top 25 Wörter\n",
      "13.80% der Sätze beinhalten 2 der Top 25 Wörter\n",
      "4.71% der Sätze beinhalten 3 der Top 25 Wörter\n",
      "1.21% der Sätze beinhalten 4 der Top 25 Wörter\n",
      "0.27% der Sätze beinhalten 5 der Top 25 Wörter\n",
      "\n",
      "4.1. vokanamet-epar-public-assessment-report_en.pdf\n",
      "31.74% der Sätze beinhalten 1 der Top 25 Wörter\n",
      "12.70% der Sätze beinhalten 2 der Top 25 Wörter\n",
      "5.36% der Sätze beinhalten 3 der Top 25 Wörter\n",
      "2.16% der Sätze beinhalten 4 der Top 25 Wörter\n",
      "0.82% der Sätze beinhalten 5 der Top 25 Wörter\n",
      "\n",
      "5.aldara-epar-scientific-discussion_en.pdf\n",
      "51.34% der Sätze beinhalten 1 der Top 25 Wörter\n",
      "20.97% der Sätze beinhalten 2 der Top 25 Wörter\n",
      "7.26% der Sätze beinhalten 3 der Top 25 Wörter\n",
      "1.34% der Sätze beinhalten 4 der Top 25 Wörter\n",
      "0.27% der Sätze beinhalten 5 der Top 25 Wörter\n",
      "\n",
      "6.evista-epar-scientific-discussion_en.pdf\n",
      "57.49% der Sätze beinhalten 1 der Top 25 Wörter\n",
      "25.44% der Sätze beinhalten 2 der Top 25 Wörter\n",
      "8.53% der Sätze beinhalten 3 der Top 25 Wörter\n",
      "2.90% der Sätze beinhalten 4 der Top 25 Wörter\n",
      "0.48% der Sätze beinhalten 5 der Top 25 Wörter\n",
      "\n",
      "7.herceptin-epar-scientific-discussion_en.pdf\n",
      "35.55% der Sätze beinhalten 1 der Top 25 Wörter\n",
      "13.54% der Sätze beinhalten 2 der Top 25 Wörter\n",
      "4.76% der Sätze beinhalten 3 der Top 25 Wörter\n",
      "1.39% der Sätze beinhalten 4 der Top 25 Wörter\n",
      "0.32% der Sätze beinhalten 5 der Top 25 Wörter\n",
      "\n",
      "8.invega-h-c-746-ii-0043-epar-assessment-report-variation_en.pdf\n",
      "40.33% der Sätze beinhalten 1 der Top 25 Wörter\n",
      "16.25% der Sätze beinhalten 2 der Top 25 Wörter\n",
      "5.65% der Sätze beinhalten 3 der Top 25 Wörter\n",
      "1.80% der Sätze beinhalten 4 der Top 25 Wörter\n",
      "0.51% der Sätze beinhalten 5 der Top 25 Wörter\n",
      "\n",
      "9.kaletra-epar-scientific-discussion_en.pdf\n",
      "46.87% der Sätze beinhalten 1 der Top 25 Wörter\n",
      "21.38% der Sätze beinhalten 2 der Top 25 Wörter\n",
      "9.07% der Sätze beinhalten 3 der Top 25 Wörter\n",
      "2.81% der Sätze beinhalten 4 der Top 25 Wörter\n",
      "0.97% der Sätze beinhalten 5 der Top 25 Wörter\n",
      "\n",
      "10.lantus-epar-scientific-discussion_en.pdf\n",
      "52.69% der Sätze beinhalten 1 der Top 25 Wörter\n",
      "21.70% der Sätze beinhalten 2 der Top 25 Wörter\n",
      "7.83% der Sätze beinhalten 3 der Top 25 Wörter\n",
      "2.61% der Sätze beinhalten 4 der Top 25 Wörter\n",
      "0.65% der Sätze beinhalten 5 der Top 25 Wörter\n",
      "\n",
      "11.lyrica-epar-scientific-discussion_en.pdf\n",
      "34.28% der Sätze beinhalten 1 der Top 25 Wörter\n",
      "13.60% der Sätze beinhalten 2 der Top 25 Wörter\n",
      "4.36% der Sätze beinhalten 3 der Top 25 Wörter\n",
      "1.26% der Sätze beinhalten 4 der Top 25 Wörter\n",
      "0.29% der Sätze beinhalten 5 der Top 25 Wörter\n",
      "\n",
      "12.puregon-epar-scientific-discussion_en.pdf\n",
      "41.65% der Sätze beinhalten 1 der Top 25 Wörter\n",
      "16.16% der Sätze beinhalten 2 der Top 25 Wörter\n",
      "3.95% der Sätze beinhalten 3 der Top 25 Wörter\n",
      "0.90% der Sätze beinhalten 4 der Top 25 Wörter\n",
      "0.36% der Sätze beinhalten 5 der Top 25 Wörter\n",
      "\n",
      "13.yentreve-epar-scientific-discussion_en.pdf\n",
      "40.34% der Sätze beinhalten 1 der Top 25 Wörter\n",
      "18.88% der Sätze beinhalten 2 der Top 25 Wörter\n",
      "7.30% der Sätze beinhalten 3 der Top 25 Wörter\n",
      "2.07% der Sätze beinhalten 4 der Top 25 Wörter\n",
      "0.79% der Sätze beinhalten 5 der Top 25 Wörter\n",
      "\n",
      "14.zometa-epar-scientific-discussion_en.pdf\n",
      "44.48% der Sätze beinhalten 1 der Top 25 Wörter\n",
      "16.99% der Sätze beinhalten 2 der Top 25 Wörter\n",
      "7.67% der Sätze beinhalten 3 der Top 25 Wörter\n",
      "3.70% der Sätze beinhalten 4 der Top 25 Wörter\n",
      "1.06% der Sätze beinhalten 5 der Top 25 Wörter\n"
     ]
    }
   ],
   "source": [
    "# Print word frequency stats for EPARs\n",
    "epar_files = [f for f in listdir('EPARs') if isfile(join('EPARs', f))]\n",
    "for index, file in enumerate(epar_files):\n",
    "    print(f'\\n{index}.{file}')\n",
    "    extract_relevant_sentences('EPARs/' + file, most_common_words,0, 5)"
   ]
  },
  {
   "cell_type": "markdown",
   "metadata": {},
   "source": [
    "## Train + Test Models"
   ]
  },
  {
   "cell_type": "markdown",
   "metadata": {},
   "source": [
    "As there are few examples to train and test on and becasue of the imbalanced data, each analysis is done twice. The 1st analysis predicts all three sentiments (negative, neutral and positive)\n",
    "and the 2nd analysis predicts two sentiments namele positive and other (i.e. merge of neutral and negative)\n",
    "### Strategies\n",
    "1. Establish baseline with simple model (supervised learning)\n",
    "  * Random Forest classifier\n",
    "  * Input ist Satz als tfidf \n",
    "2. As we have little data, an unsupervised learning method using the pretrained vader model is used. Thus no training required. \n",
    "  * Python Vader: Model for sentiment analysis\n",
    "    * Vader has dictionary to translate lexikal properties to emotions\n",
    "    * The sentiment of a sentence is the sum of sentiments of the words in the sentence\n",
    "    * Vader is trained with social media data. This is not ideal. Lack of data and time contrainst make this a good second approach to analyse sentiments"
   ]
  },
  {
   "cell_type": "code",
   "execution_count": 429,
   "metadata": {},
   "outputs": [],
   "source": [
    "import operator\n",
    "from sklearn.pipeline import Pipeline\n",
    "from sklearn.feature_extraction.text import TfidfVectorizer\n",
    "from sklearn.ensemble import RandomForestClassifier\n",
    "from sklearn.model_selection import train_test_split\n",
    "from nltk.sentiment.vader import SentimentIntensityAnalyzer\n",
    "from sklearn.metrics import classification_report,confusion_matrix"
   ]
  },
  {
   "cell_type": "markdown",
   "metadata": {},
   "source": [
    "#### Strategy 1\n",
    "Supervised Learning using RandomForest to establish baseline perfomance. TF-IDF is used to convert text to numbers."
   ]
  },
  {
   "cell_type": "code",
   "execution_count": 430,
   "metadata": {},
   "outputs": [],
   "source": [
    "# Random Forest:\n",
    "text_clf_dr = Pipeline([('tfidf', TfidfVectorizer()),\n",
    "                     ('clf', RandomForestClassifier()),\n",
    "])"
   ]
  },
  {
   "cell_type": "markdown",
   "metadata": {},
   "source": [
    "##### Predict three sentiments"
   ]
  },
  {
   "cell_type": "code",
   "execution_count": 431,
   "metadata": {},
   "outputs": [
    {
     "data": {
      "text/html": [
       "<div>\n",
       "<style scoped>\n",
       "    .dataframe tbody tr th:only-of-type {\n",
       "        vertical-align: middle;\n",
       "    }\n",
       "\n",
       "    .dataframe tbody tr th {\n",
       "        vertical-align: top;\n",
       "    }\n",
       "\n",
       "    .dataframe thead th {\n",
       "        text-align: right;\n",
       "    }\n",
       "</style>\n",
       "<table border=\"1\" class=\"dataframe\">\n",
       "  <thead>\n",
       "    <tr style=\"text-align: right;\">\n",
       "      <th></th>\n",
       "      <th>ID</th>\n",
       "      <th>Sentence</th>\n",
       "      <th>Positive</th>\n",
       "      <th>Negative</th>\n",
       "      <th>Neutral</th>\n",
       "      <th>Sentiment</th>\n",
       "      <th>Sentiment_Text</th>\n",
       "      <th>Sentiment_Easy</th>\n",
       "      <th>Sentiment_Easy_Text</th>\n",
       "      <th>Sentence_Cleaned</th>\n",
       "    </tr>\n",
       "  </thead>\n",
       "  <tbody>\n",
       "    <tr>\n",
       "      <th>0</th>\n",
       "      <td>1</td>\n",
       "      <td>The results in 2nd line treatment show an ORR ...</td>\n",
       "      <td>1</td>\n",
       "      <td>0</td>\n",
       "      <td>0</td>\n",
       "      <td>2</td>\n",
       "      <td>Positiv</td>\n",
       "      <td>1</td>\n",
       "      <td>Positiv</td>\n",
       "      <td>result 2nd line treatment orr 33 patient durab...</td>\n",
       "    </tr>\n",
       "  </tbody>\n",
       "</table>\n",
       "</div>"
      ],
      "text/plain": [
       "   ID                                           Sentence  Positive  Negative  \\\n",
       "0   1  The results in 2nd line treatment show an ORR ...         1         0   \n",
       "\n",
       "   Neutral  Sentiment Sentiment_Text  Sentiment_Easy Sentiment_Easy_Text  \\\n",
       "0        0          2        Positiv               1             Positiv   \n",
       "\n",
       "                                    Sentence_Cleaned  \n",
       "0  result 2nd line treatment orr 33 patient durab...  "
      ]
     },
     "execution_count": 431,
     "metadata": {},
     "output_type": "execute_result"
    }
   ],
   "source": [
    "df.head(1)"
   ]
  },
  {
   "cell_type": "code",
   "execution_count": 432,
   "metadata": {},
   "outputs": [],
   "source": [
    "X = df['Sentence_Cleaned']\n",
    "y = df['Sentiment']\n",
    "\n",
    "X_train, X_test, y_train, y_test = train_test_split(X, y, test_size=0.33, random_state=42)"
   ]
  },
  {
   "cell_type": "code",
   "execution_count": 433,
   "metadata": {},
   "outputs": [
    {
     "name": "stdout",
     "output_type": "stream",
     "text": [
      "[[ 5  2  7]\n",
      " [ 0  6 18]\n",
      " [ 0  3 47]]\n",
      "              precision    recall  f1-score   support\n",
      "\n",
      "           0       1.00      0.36      0.53        14\n",
      "           1       0.55      0.25      0.34        24\n",
      "           2       0.65      0.94      0.77        50\n",
      "\n",
      "    accuracy                           0.66        88\n",
      "   macro avg       0.73      0.52      0.55        88\n",
      "weighted avg       0.68      0.66      0.62        88\n",
      "\n"
     ]
    }
   ],
   "source": [
    "text_clf_dr.fit(X_train, y_train)\n",
    "predictions = text_clf_dr.predict(X_test)\n",
    "print(confusion_matrix(y_test,predictions))\n",
    "print(classification_report(y_test,predictions))"
   ]
  },
  {
   "cell_type": "markdown",
   "metadata": {},
   "source": [
    "The results are not good. Especially recall for sentiments 0 and 1 (negative and neutral) could be improved"
   ]
  },
  {
   "cell_type": "markdown",
   "metadata": {},
   "source": [
    "##### Predict two sentiments"
   ]
  },
  {
   "cell_type": "code",
   "execution_count": 434,
   "metadata": {},
   "outputs": [],
   "source": [
    "X = df['Sentence_Cleaned']\n",
    "y = df['Sentiment_Easy']\n",
    "\n",
    "X_train, X_test, y_train, y_test = train_test_split(X, y, test_size=0.33, random_state=42)"
   ]
  },
  {
   "cell_type": "code",
   "execution_count": 435,
   "metadata": {},
   "outputs": [
    {
     "name": "stdout",
     "output_type": "stream",
     "text": [
      "              precision    recall  f1-score   support\n",
      "\n",
      "           0       0.71      0.32      0.44        38\n",
      "           1       0.63      0.90      0.74        50\n",
      "\n",
      "    accuracy                           0.65        88\n",
      "   macro avg       0.67      0.61      0.59        88\n",
      "weighted avg       0.66      0.65      0.61        88\n",
      "\n",
      "[[12 26]\n",
      " [ 5 45]]\n"
     ]
    }
   ],
   "source": [
    "text_clf_dr.fit(X_train, y_train)\n",
    "predictions = text_clf_dr.predict(X_test)\n",
    "print(classification_report(y_test,predictions))\n",
    "print(confusion_matrix(y_test,predictions))"
   ]
  },
  {
   "cell_type": "markdown",
   "metadata": {},
   "source": [
    "Results are a bit better but still improveable."
   ]
  },
  {
   "cell_type": "markdown",
   "metadata": {},
   "source": [
    "##### Predict 3 Sentiments but use all data to train (should be easy then, right)"
   ]
  },
  {
   "cell_type": "code",
   "execution_count": 436,
   "metadata": {},
   "outputs": [],
   "source": [
    "X = df['Sentence_Cleaned']\n",
    "y = df['Sentiment']\n",
    "\n",
    "X_train, X_test, y_train, y_test = train_test_split(X, y, test_size=0.33, random_state=42)"
   ]
  },
  {
   "cell_type": "code",
   "execution_count": 437,
   "metadata": {},
   "outputs": [
    {
     "name": "stdout",
     "output_type": "stream",
     "text": [
      "[[14  0  0]\n",
      " [ 0 24  0]\n",
      " [ 0  0 50]]\n",
      "              precision    recall  f1-score   support\n",
      "\n",
      "           0       1.00      1.00      1.00        14\n",
      "           1       1.00      1.00      1.00        24\n",
      "           2       1.00      1.00      1.00        50\n",
      "\n",
      "    accuracy                           1.00        88\n",
      "   macro avg       1.00      1.00      1.00        88\n",
      "weighted avg       1.00      1.00      1.00        88\n",
      "\n"
     ]
    }
   ],
   "source": [
    "text_clf_dr.fit(df['Sentence_Cleaned'], df['Sentiment'])\n",
    "predictions = text_clf_dr.predict(X_test)\n",
    "print(confusion_matrix(y_test,predictions))\n",
    "print(classification_report(y_test,predictions))"
   ]
  },
  {
   "cell_type": "markdown",
   "metadata": {},
   "source": [
    "Perfekt, but probably generalizes really bad."
   ]
  },
  {
   "cell_type": "markdown",
   "metadata": {},
   "source": [
    "#### Strategy 2: Unsupervised learning with pretrained model"
   ]
  },
  {
   "cell_type": "markdown",
   "metadata": {},
   "source": [
    "##### Predict three sentiments"
   ]
  },
  {
   "cell_type": "code",
   "execution_count": 438,
   "metadata": {},
   "outputs": [],
   "source": [
    "sentiment_analyzer = SentimentIntensityAnalyzer()"
   ]
  },
  {
   "cell_type": "code",
   "execution_count": 439,
   "metadata": {},
   "outputs": [
    {
     "name": "stdout",
     "output_type": "stream",
     "text": [
      "No major concerns have been identified in the updated analysis                                                                     {'neg': 0.196, 'neu': 0.804, 'pos': 0.0, 'compound': -0.296}\n",
      "The applicant provided six pivotal studies to support this application.                                                            {'neg': 0.0, 'neu': 0.769, 'pos': 0.231, 'compound': 0.4019}\n",
      "Therefore, the CHMP endorsed the proposed dose of 300 mg every other week (Q2W) with a loading dose of 600 mg on day 1.            {'neg': 0.0, 'neu': 0.917, 'pos': 0.083, 'compound': 0.25}\n"
     ]
    }
   ],
   "source": [
    "### 3 Sätze zum raten\n",
    "guess_sentiment_1 = df.iloc[15]['Sentence'] # 'No major concerns have been identified in the updated analysis'\n",
    "guess_sentiment_2 = df.iloc[39]['Sentence'] # 'The applicant provided six pivotal studies to support this application.'\n",
    "guess_sentiment_3 = df.iloc[35]['Sentence'] # 'Therefore, the CHMP endorsed the proposed dose of 300 mg every other week (Q2W) with a loading dose of 600 mg on day 1.'\n",
    "\n",
    "print(f'{guess_sentiment_1:{130}} {sentiment_analyzer.polarity_scores(guess_sentiment_1)}') # korrekt: positiv\n",
    "print(f'{guess_sentiment_2:{130}} {sentiment_analyzer.polarity_scores(guess_sentiment_2)}') # korrekt: neutral\n",
    "print(f'{guess_sentiment_3:{130}} {sentiment_analyzer.polarity_scores(guess_sentiment_3)}') # korrekt: neutral"
   ]
  },
  {
   "cell_type": "code",
   "execution_count": 440,
   "metadata": {},
   "outputs": [],
   "source": [
    "df['Scores'] = df['Sentence'].apply(lambda sentence: sentiment_analyzer.polarity_scores(sentence))\n",
    "df['Compound']  = df['Scores'].apply(lambda score_dict: score_dict['compound'])\n",
    "df['Comp_Sentiment'] = df['Compound'].apply(lambda c: 2 if c >=0.25 else 0 if c <= -0.25 else 1)"
   ]
  },
  {
   "cell_type": "code",
   "execution_count": 441,
   "metadata": {},
   "outputs": [
    {
     "data": {
      "text/plain": [
       "2    160\n",
       "1     70\n",
       "0     36\n",
       "Name: Sentiment, dtype: int64"
      ]
     },
     "execution_count": 441,
     "metadata": {},
     "output_type": "execute_result"
    }
   ],
   "source": [
    "df['Sentiment'].value_counts()"
   ]
  },
  {
   "cell_type": "code",
   "execution_count": 442,
   "metadata": {},
   "outputs": [
    {
     "data": {
      "text/plain": [
       "neu    266\n",
       "Name: Comp_score_sentiment, dtype: int64"
      ]
     },
     "execution_count": 442,
     "metadata": {},
     "output_type": "execute_result"
    }
   ],
   "source": [
    "# get sentiment with highest score always return neutral (never positive or negative)\n",
    "# teh idea was to caluclate your own overall score based on value for positive, negative and neutral\n",
    "def get_highest(scores):\n",
    "    temp = None\n",
    "    if 'compound' in scores:\n",
    "        temp = scores.pop('compound')\n",
    "    highest = max(scores.items(), key=operator.itemgetter(1))[0]\n",
    "\n",
    "    if temp:\n",
    "        scores['compound'] = temp\n",
    "    return highest\n",
    "    \n",
    "df['Comp_score_sentiment'] = df['Scores'].apply(lambda x: get_highest(x))\n",
    "df['Comp_score_sentiment'].value_counts()"
   ]
  },
  {
   "cell_type": "code",
   "execution_count": 443,
   "metadata": {},
   "outputs": [
    {
     "name": "stderr",
     "output_type": "stream",
     "text": [
      "UserWarning: 13.8% of the points cannot be placed; you may want to decrease the size of the markers or use stripplot. [categorical.py:1296]\n",
      "UserWarning: 12.9% of the points cannot be placed; you may want to decrease the size of the markers or use stripplot. [categorical.py:1296]\n"
     ]
    },
    {
     "data": {
      "text/plain": [
       "<AxesSubplot:xlabel='Sentiment_Text', ylabel='Compound'>"
      ]
     },
     "execution_count": 443,
     "metadata": {},
     "output_type": "execute_result"
    },
    {
     "data": {
      "image/png": "[encoded data removed]",
      "text/plain": [
       "<Figure size 432x288 with 1 Axes>"
      ]
     },
     "metadata": {
      "needs_background": "light"
     },
     "output_type": "display_data"
    }
   ],
   "source": [
    "# trying to find thresholds in compound score to identify cutoffs between sentiments \n",
    "# there are no clear cutoffs. A positive sentiment has compound scores \"all over the place\". \n",
    "# A neutral sentiments looks like the mini version of the positive scores. See plot and table below.\n",
    "sns.swarmplot(x='Sentiment_Text',y='Compound',data=df)"
   ]
  },
  {
   "cell_type": "code",
   "execution_count": 444,
   "metadata": {},
   "outputs": [
    {
     "data": {
      "text/html": [
       "<div>\n",
       "<style scoped>\n",
       "    .dataframe tbody tr th:only-of-type {\n",
       "        vertical-align: middle;\n",
       "    }\n",
       "\n",
       "    .dataframe tbody tr th {\n",
       "        vertical-align: top;\n",
       "    }\n",
       "\n",
       "    .dataframe thead th {\n",
       "        text-align: right;\n",
       "    }\n",
       "</style>\n",
       "<table border=\"1\" class=\"dataframe\">\n",
       "  <thead>\n",
       "    <tr style=\"text-align: right;\">\n",
       "      <th>Sentiment_Text</th>\n",
       "      <th>Negativ</th>\n",
       "      <th>Neutral</th>\n",
       "      <th>Positiv</th>\n",
       "    </tr>\n",
       "  </thead>\n",
       "  <tbody>\n",
       "    <tr>\n",
       "      <th>count</th>\n",
       "      <td>36.000000</td>\n",
       "      <td>70.000000</td>\n",
       "      <td>160.000000</td>\n",
       "    </tr>\n",
       "    <tr>\n",
       "      <th>mean</th>\n",
       "      <td>0.055047</td>\n",
       "      <td>0.124340</td>\n",
       "      <td>0.273021</td>\n",
       "    </tr>\n",
       "    <tr>\n",
       "      <th>std</th>\n",
       "      <td>0.361313</td>\n",
       "      <td>0.284702</td>\n",
       "      <td>0.374586</td>\n",
       "    </tr>\n",
       "    <tr>\n",
       "      <th>min</th>\n",
       "      <td>-0.717800</td>\n",
       "      <td>-0.526700</td>\n",
       "      <td>-0.670500</td>\n",
       "    </tr>\n",
       "    <tr>\n",
       "      <th>25%</th>\n",
       "      <td>-0.296000</td>\n",
       "      <td>0.000000</td>\n",
       "      <td>0.000000</td>\n",
       "    </tr>\n",
       "    <tr>\n",
       "      <th>50%</th>\n",
       "      <td>0.139750</td>\n",
       "      <td>0.012900</td>\n",
       "      <td>0.318200</td>\n",
       "    </tr>\n",
       "    <tr>\n",
       "      <th>75%</th>\n",
       "      <td>0.421500</td>\n",
       "      <td>0.376650</td>\n",
       "      <td>0.612400</td>\n",
       "    </tr>\n",
       "    <tr>\n",
       "      <th>max</th>\n",
       "      <td>0.421500</td>\n",
       "      <td>0.703400</td>\n",
       "      <td>0.942300</td>\n",
       "    </tr>\n",
       "  </tbody>\n",
       "</table>\n",
       "</div>"
      ],
      "text/plain": [
       "Sentiment_Text    Negativ    Neutral     Positiv\n",
       "count           36.000000  70.000000  160.000000\n",
       "mean             0.055047   0.124340    0.273021\n",
       "std              0.361313   0.284702    0.374586\n",
       "min             -0.717800  -0.526700   -0.670500\n",
       "25%             -0.296000   0.000000    0.000000\n",
       "50%              0.139750   0.012900    0.318200\n",
       "75%              0.421500   0.376650    0.612400\n",
       "max              0.421500   0.703400    0.942300"
      ]
     },
     "execution_count": 444,
     "metadata": {},
     "output_type": "execute_result"
    }
   ],
   "source": [
    "# compute compound scores thresholds for neutral\n",
    "df.groupby('Sentiment_Text')['Compound'].describe().transpose() # for all rows with positive sentiment"
   ]
  },
  {
   "cell_type": "code",
   "execution_count": 445,
   "metadata": {},
   "outputs": [
    {
     "name": "stdout",
     "output_type": "stream",
     "text": [
      "[[10 14 12]\n",
      " [ 8 38 24]\n",
      " [18 55 87]]\n",
      "              precision    recall  f1-score   support\n",
      "\n",
      "           0       0.28      0.28      0.28        36\n",
      "           1       0.36      0.54      0.43        70\n",
      "           2       0.71      0.54      0.61       160\n",
      "\n",
      "    accuracy                           0.51       266\n",
      "   macro avg       0.45      0.45      0.44       266\n",
      "weighted avg       0.56      0.51      0.52       266\n",
      "\n"
     ]
    }
   ],
   "source": [
    "print(confusion_matrix(df['Sentiment'],df['Comp_Sentiment']))\n",
    "print(classification_report(df['Sentiment'],df['Comp_Sentiment']))"
   ]
  },
  {
   "cell_type": "markdown",
   "metadata": {},
   "source": [
    "##### Predict 2 Sentiments"
   ]
  },
  {
   "cell_type": "code",
   "execution_count": 446,
   "metadata": {},
   "outputs": [],
   "source": [
    "df['Comp_Sentiment_Easy'] = df['Compound'].apply(lambda c: 1 if c >=0.2 else 0)"
   ]
  },
  {
   "cell_type": "code",
   "execution_count": 447,
   "metadata": {},
   "outputs": [
    {
     "name": "stdout",
     "output_type": "stream",
     "text": [
      "[[59 47]\n",
      " [65 95]]\n",
      "              precision    recall  f1-score   support\n",
      "\n",
      "           0       0.48      0.56      0.51       106\n",
      "           1       0.67      0.59      0.63       160\n",
      "\n",
      "    accuracy                           0.58       266\n",
      "   macro avg       0.57      0.58      0.57       266\n",
      "weighted avg       0.59      0.58      0.58       266\n",
      "\n"
     ]
    }
   ],
   "source": [
    "print(confusion_matrix(df['Sentiment_Easy'],df['Comp_Sentiment_Easy']))\n",
    "print(classification_report(df['Sentiment_Easy'],df['Comp_Sentiment_Easy']))"
   ]
  },
  {
   "cell_type": "markdown",
   "metadata": {},
   "source": [
    "Results are no too positive. Predicting two sentiments is a bit better but still expandable. Unsupervised worse than baseline. With more time and data an own model can be trained as the Vader's data basis (social media text) does not deliver results. "
   ]
  },
  {
   "cell_type": "markdown",
   "metadata": {},
   "source": [
    "#### Strategie 3: Supervised Learning - use own NN"
   ]
  },
  {
   "cell_type": "code",
   "execution_count": 448,
   "metadata": {},
   "outputs": [],
   "source": [
    "from numpy import asarray\n",
    "from numpy import zeros\n",
    "import numpy as np\n",
    "from tensorflow.keras.preprocessing.sequence import pad_sequences\n",
    "from tensorflow.keras.preprocessing.text import Tokenizer\n",
    "from tensorflow.keras import Sequential\n",
    "from tensorflow.keras.layers import Embedding, LSTM, Flatten, Dense\n",
    "from tensorflow.keras.callbacks import EarlyStopping\n",
    "\n",
    "from tensorflow.keras.optimizers import SGD\n",
    "from tensorflow.keras.utils import to_categorical"
   ]
  },
  {
   "cell_type": "markdown",
   "metadata": {},
   "source": [
    "##### Predict three sentiments"
   ]
  },
  {
   "cell_type": "code",
   "execution_count": 449,
   "metadata": {},
   "outputs": [],
   "source": [
    "X = df['Sentence_Cleaned']\n",
    "y = df['Sentiment']\n",
    "y = to_categorical(y)"
   ]
  },
  {
   "cell_type": "code",
   "execution_count": 450,
   "metadata": {},
   "outputs": [],
   "source": [
    "X_train, X_test, y_train, y_test = train_test_split(X, y, test_size=0.20, random_state=42)"
   ]
  },
  {
   "cell_type": "code",
   "execution_count": 451,
   "metadata": {},
   "outputs": [],
   "source": [
    "tokenizer = Tokenizer(num_words=5000)\n",
    "tokenizer.fit_on_texts(X_train)\n",
    "\n",
    "X_train = tokenizer.texts_to_sequences(X_train)\n",
    "X_test = tokenizer.texts_to_sequences(X_test)"
   ]
  },
  {
   "cell_type": "code",
   "execution_count": 452,
   "metadata": {},
   "outputs": [],
   "source": [
    "# Adding 1 because of reserved 0 index\n",
    "vocab_size = len(tokenizer.word_index) + 1\n",
    "\n",
    "maxlen = 100\n",
    "\n",
    "# padding to achieve equal length\n",
    "X_train = pad_sequences(X_train, padding='post', maxlen=maxlen)\n",
    "X_test = pad_sequences(X_test, padding='post', maxlen=maxlen)"
   ]
  },
  {
   "cell_type": "code",
   "execution_count": 453,
   "metadata": {},
   "outputs": [],
   "source": [
    "embeddings_dictionary = dict()\n",
    "glove_file = open('data/glove.6B.100d.txt', encoding=\"utf8\")\n",
    "\n",
    "for line in glove_file:\n",
    "    records = line.split()\n",
    "    word = records[0]\n",
    "    vector_dimensions = asarray(records[1:], dtype='float32')\n",
    "    embeddings_dictionary [word] = vector_dimensions\n",
    "glove_file.close()"
   ]
  },
  {
   "cell_type": "code",
   "execution_count": 454,
   "metadata": {},
   "outputs": [],
   "source": [
    "embedding_matrix = zeros((vocab_size, 100))\n",
    "for word, index in tokenizer.word_index.items():\n",
    "    embedding_vector = embeddings_dictionary.get(word)\n",
    "    if embedding_vector is not None:\n",
    "        embedding_matrix[index] = embedding_vector"
   ]
  },
  {
   "cell_type": "code",
   "execution_count": 455,
   "metadata": {},
   "outputs": [],
   "source": [
    "early_stop = EarlyStopping(monitor='val_loss', mode='min', verbose=1, patience=50)\n",
    "\n",
    "model = Sequential()\n",
    "embedding_layer = Embedding(vocab_size, 100, weights=[embedding_matrix], input_length=maxlen , trainable=False)\n",
    "model.add(embedding_layer)\n",
    "model.add(Flatten())\n",
    "model.add(Dense(3, activation='softmax'))"
   ]
  },
  {
   "cell_type": "code",
   "execution_count": 456,
   "metadata": {},
   "outputs": [
    {
     "name": "stdout",
     "output_type": "stream",
     "text": [
      "Model: \"sequential_30\"\n",
      "_________________________________________________________________\n",
      "Layer (type)                 Output Shape              Param #   \n",
      "=================================================================\n",
      "embedding_28 (Embedding)     (None, 100, 100)          96300     \n",
      "_________________________________________________________________\n",
      "flatten_17 (Flatten)         (None, 10000)             0         \n",
      "_________________________________________________________________\n",
      "dense_29 (Dense)             (None, 3)                 30003     \n",
      "=================================================================\n",
      "Total params: 126,303\n",
      "Trainable params: 30,003\n",
      "Non-trainable params: 96,300\n",
      "_________________________________________________________________\n",
      "None\n"
     ]
    }
   ],
   "source": [
    "model.compile(optimizer='adam', loss='categorical_crossentropy', metrics=['accuracy'])\n",
    "\n",
    "print(model.summary())"
   ]
  },
  {
   "cell_type": "code",
   "execution_count": 457,
   "metadata": {},
   "outputs": [
    {
     "name": "stdout",
     "output_type": "stream",
     "text": [
      "Epoch 00058: early stopping\n"
     ]
    }
   ],
   "source": [
    "history = model.fit(X_train, y_train, batch_size=64, epochs=100, verbose=0, validation_data=(X_test, y_test),  callbacks=[early_stop])  "
   ]
  },
  {
   "cell_type": "code",
   "execution_count": 458,
   "metadata": {},
   "outputs": [
    {
     "name": "stdout",
     "output_type": "stream",
     "text": [
      "2/2 [==============================] - 0s 1ms/step - loss: 1.0849 - accuracy: 0.6111\n"
     ]
    }
   ],
   "source": [
    "score = model.evaluate(X_test, y_test, verbose=1)"
   ]
  },
  {
   "cell_type": "code",
   "execution_count": 459,
   "metadata": {},
   "outputs": [
    {
     "name": "stdout",
     "output_type": "stream",
     "text": [
      "Test Score: 1.0848973989486694\n",
      "Test Accuracy: 0.6111111044883728\n"
     ]
    }
   ],
   "source": [
    "print(\"Test Score:\", score[0])\n",
    "print(\"Test Accuracy:\", score[1])"
   ]
  },
  {
   "cell_type": "code",
   "execution_count": 460,
   "metadata": {},
   "outputs": [
    {
     "data": {
      "text/plain": [
       "<AxesSubplot:>"
      ]
     },
     "execution_count": 460,
     "metadata": {},
     "output_type": "execute_result"
    },
    {
     "data": {
      "image/png": "[encoded data removed]",
      "text/plain": [
       "<Figure size 432x288 with 1 Axes>"
      ]
     },
     "metadata": {
      "needs_background": "light"
     },
     "output_type": "display_data"
    }
   ],
   "source": [
    "loss_df = pd.DataFrame(history.history)\n",
    "loss_df[['loss', 'val_loss']].plot() "
   ]
  },
  {
   "cell_type": "code",
   "execution_count": 461,
   "metadata": {},
   "outputs": [
    {
     "name": "stdout",
     "output_type": "stream",
     "text": [
      "WARNING:tensorflow:5 out of the last 11 calls to <function Model.make_predict_function.<locals>.predict_function at 0x000002259395D0D8> triggered tf.function retracing. Tracing is expensive and the excessive number of tracings could be due to (1) creating @tf.function repeatedly in a loop, (2) passing tensors with different shapes, (3) passing Python objects instead of tensors. For (1), please define your @tf.function outside of the loop. For (2), @tf.function has experimental_relax_shapes=True option that relaxes argument shapes that can avoid unnecessary retracing. For (3), please refer to https://www.tensorflow.org/tutorials/customization/performance#python_or_tensor_args and https://www.tensorflow.org/api_docs/python/tf/function for  more details.\n",
      "[[ 3  1  4]\n",
      " [ 0  4 12]\n",
      " [ 1  3 26]]\n",
      "              precision    recall  f1-score   support\n",
      "\n",
      "           0       0.75      0.38      0.50         8\n",
      "           1       0.50      0.25      0.33        16\n",
      "           2       0.62      0.87      0.72        30\n",
      "\n",
      "    accuracy                           0.61        54\n",
      "   macro avg       0.62      0.50      0.52        54\n",
      "weighted avg       0.60      0.61      0.57        54\n",
      "\n"
     ]
    }
   ],
   "source": [
    "predictions = model.predict(X_test)\n",
    "print(confusion_matrix([np.argmax(x, axis=0) for x in y_test],[np.argmax(x, axis=0) for x in predictions]))\n",
    "print(classification_report([np.argmax(x, axis=0) for x in y_test],[np.argmax(x, axis=0) for x in predictions]))"
   ]
  },
  {
   "cell_type": "markdown",
   "metadata": {},
   "source": [
    "##### Predict 2 sentiments"
   ]
  },
  {
   "cell_type": "code",
   "execution_count": 462,
   "metadata": {},
   "outputs": [],
   "source": [
    "X = df['Sentence_Cleaned']\n",
    "y = df['Sentiment_Easy']"
   ]
  },
  {
   "cell_type": "code",
   "execution_count": 463,
   "metadata": {},
   "outputs": [],
   "source": [
    "X_train, X_test, y_train, y_test = train_test_split(X, y, test_size=0.20, random_state=42)"
   ]
  },
  {
   "cell_type": "code",
   "execution_count": 464,
   "metadata": {},
   "outputs": [],
   "source": [
    "tokenizer = Tokenizer(num_words=5000)\n",
    "tokenizer.fit_on_texts(X_train)\n",
    "\n",
    "X_train = tokenizer.texts_to_sequences(X_train)\n",
    "X_test = tokenizer.texts_to_sequences(X_test)"
   ]
  },
  {
   "cell_type": "code",
   "execution_count": 465,
   "metadata": {},
   "outputs": [],
   "source": [
    "vocab_size = len(tokenizer.word_index) + 1\n",
    "maxlen = 100\n",
    "\n",
    "# padding to achieve equal length\n",
    "X_train = pad_sequences(X_train, padding='post', maxlen=maxlen)\n",
    "X_test = pad_sequences(X_test, padding='post', maxlen=maxlen)"
   ]
  },
  {
   "cell_type": "code",
   "execution_count": 466,
   "metadata": {},
   "outputs": [],
   "source": [
    "early_stop = EarlyStopping(monitor='val_loss', mode='min', verbose=1, patience=50)\n",
    "\n",
    "model = Sequential()\n",
    "embedding_layer = Embedding(vocab_size, 100, weights=[embedding_matrix], input_length=maxlen , trainable=False)\n",
    "model.add(embedding_layer)\n",
    "model.add(Flatten())\n",
    "model.add(Dense(1, activation='sigmoid'))"
   ]
  },
  {
   "cell_type": "code",
   "execution_count": 467,
   "metadata": {},
   "outputs": [
    {
     "name": "stdout",
     "output_type": "stream",
     "text": [
      "Model: \"sequential_31\"\n",
      "_________________________________________________________________\n",
      "Layer (type)                 Output Shape              Param #   \n",
      "=================================================================\n",
      "embedding_29 (Embedding)     (None, 100, 100)          96300     \n",
      "_________________________________________________________________\n",
      "flatten_18 (Flatten)         (None, 10000)             0         \n",
      "_________________________________________________________________\n",
      "dense_30 (Dense)             (None, 1)                 10001     \n",
      "=================================================================\n",
      "Total params: 106,301\n",
      "Trainable params: 10,001\n",
      "Non-trainable params: 96,300\n",
      "_________________________________________________________________\n",
      "None\n"
     ]
    }
   ],
   "source": [
    "model.compile(optimizer='adam', loss='binary_crossentropy', metrics=['accuracy'])\n",
    "\n",
    "print(model.summary())"
   ]
  },
  {
   "cell_type": "code",
   "execution_count": 468,
   "metadata": {},
   "outputs": [
    {
     "name": "stdout",
     "output_type": "stream",
     "text": [
      "Epoch 00057: early stopping\n"
     ]
    }
   ],
   "source": [
    "history = model.fit(X_train, y_train, batch_size=64, epochs=100, verbose=0, validation_data=(X_test, y_test),  callbacks=[early_stop])  "
   ]
  },
  {
   "cell_type": "code",
   "execution_count": 469,
   "metadata": {},
   "outputs": [
    {
     "name": "stdout",
     "output_type": "stream",
     "text": [
      "2/2 [==============================] - 0s 2ms/step - loss: 0.7339 - accuracy: 0.6296\n"
     ]
    }
   ],
   "source": [
    "score = model.evaluate(X_test, y_test, verbose=1)"
   ]
  },
  {
   "cell_type": "code",
   "execution_count": 470,
   "metadata": {},
   "outputs": [
    {
     "name": "stdout",
     "output_type": "stream",
     "text": [
      "Test Score: 0.7338752746582031\n",
      "Test Accuracy: 0.6296296119689941\n"
     ]
    }
   ],
   "source": [
    "print(\"Test Score:\", score[0])\n",
    "print(\"Test Accuracy:\", score[1])"
   ]
  },
  {
   "cell_type": "code",
   "execution_count": 471,
   "metadata": {},
   "outputs": [
    {
     "data": {
      "text/plain": [
       "<AxesSubplot:>"
      ]
     },
     "execution_count": 471,
     "metadata": {},
     "output_type": "execute_result"
    },
    {
     "data": {
      "image/png": "[encoded data removed]",
      "text/plain": [
       "<Figure size 432x288 with 1 Axes>"
      ]
     },
     "metadata": {
      "needs_background": "light"
     },
     "output_type": "display_data"
    }
   ],
   "source": [
    "loss_df = pd.DataFrame(history.history)\n",
    "loss_df[['loss', 'val_loss']].plot() "
   ]
  },
  {
   "cell_type": "code",
   "execution_count": 472,
   "metadata": {},
   "outputs": [
    {
     "name": "stdout",
     "output_type": "stream",
     "text": [
      "WARNING:tensorflow:5 out of the last 11 calls to <function Model.make_predict_function.<locals>.predict_function at 0x000002258BDB1B88> triggered tf.function retracing. Tracing is expensive and the excessive number of tracings could be due to (1) creating @tf.function repeatedly in a loop, (2) passing tensors with different shapes, (3) passing Python objects instead of tensors. For (1), please define your @tf.function outside of the loop. For (2), @tf.function has experimental_relax_shapes=True option that relaxes argument shapes that can avoid unnecessary retracing. For (3), please refer to https://www.tensorflow.org/tutorials/customization/performance#python_or_tensor_args and https://www.tensorflow.org/api_docs/python/tf/function for  more details.\n",
      "[[12 12]\n",
      " [ 8 22]]\n",
      "              precision    recall  f1-score   support\n",
      "\n",
      "           0       0.60      0.50      0.55        24\n",
      "           1       0.65      0.73      0.69        30\n",
      "\n",
      "    accuracy                           0.63        54\n",
      "   macro avg       0.62      0.62      0.62        54\n",
      "weighted avg       0.63      0.63      0.62        54\n",
      "\n"
     ]
    }
   ],
   "source": [
    "predictions = model.predict(X_test)\n",
    "print(confusion_matrix(y_test,[1 if x > 0.5 else 0 for x in predictions ]))\n",
    "print(classification_report(y_test,[1 if x > 0.5 else 0 for x in predictions]))"
   ]
  },
  {
   "cell_type": "markdown",
   "metadata": {},
   "source": [
    "### Tried a more complex network architecture namely LSTM"
   ]
  },
  {
   "cell_type": "code",
   "execution_count": 473,
   "metadata": {},
   "outputs": [],
   "source": [
    "X = df['Sentence_Cleaned']\n",
    "y = df['Sentiment']\n",
    "y = to_categorical(y)"
   ]
  },
  {
   "cell_type": "code",
   "execution_count": 474,
   "metadata": {},
   "outputs": [],
   "source": [
    "X_train, X_test, y_train, y_test = train_test_split(X, y, test_size=0.20, random_state=42)"
   ]
  },
  {
   "cell_type": "code",
   "execution_count": 475,
   "metadata": {},
   "outputs": [],
   "source": [
    "tokenizer = Tokenizer(num_words=5000)\n",
    "tokenizer.fit_on_texts(X_train)\n",
    "\n",
    "X_train = tokenizer.texts_to_sequences(X_train)\n",
    "X_test = tokenizer.texts_to_sequences(X_test)"
   ]
  },
  {
   "cell_type": "code",
   "execution_count": 476,
   "metadata": {},
   "outputs": [],
   "source": [
    "# Adding 1 because of reserved 0 index\n",
    "vocab_size = len(tokenizer.word_index) + 1\n",
    "\n",
    "maxlen = 100\n",
    "\n",
    "# padding to achieve equal length\n",
    "X_train = pad_sequences(X_train, padding='post', maxlen=maxlen)\n",
    "X_test = pad_sequences(X_test, padding='post', maxlen=maxlen)"
   ]
  },
  {
   "cell_type": "code",
   "execution_count": 477,
   "metadata": {},
   "outputs": [],
   "source": [
    "model = Sequential()\n",
    "embedding_layer = Embedding(vocab_size, 100, weights=[embedding_matrix], input_length=maxlen , trainable=False)\n",
    "model.add(embedding_layer)\n",
    "model.add(LSTM(128))\n",
    "\n",
    "model.add(Dense(3, activation='softmax'))\n",
    "model.compile(optimizer='adam', loss='categorical_crossentropy', metrics=['acc'])"
   ]
  },
  {
   "cell_type": "code",
   "execution_count": 478,
   "metadata": {},
   "outputs": [
    {
     "name": "stdout",
     "output_type": "stream",
     "text": [
      "Model: \"sequential_32\"\n",
      "_________________________________________________________________\n",
      "Layer (type)                 Output Shape              Param #   \n",
      "=================================================================\n",
      "embedding_30 (Embedding)     (None, 100, 100)          96300     \n",
      "_________________________________________________________________\n",
      "lstm_11 (LSTM)               (None, 128)               117248    \n",
      "_________________________________________________________________\n",
      "dense_31 (Dense)             (None, 3)                 387       \n",
      "=================================================================\n",
      "Total params: 213,935\n",
      "Trainable params: 117,635\n",
      "Non-trainable params: 96,300\n",
      "_________________________________________________________________\n",
      "None\n"
     ]
    }
   ],
   "source": [
    "print(model.summary())"
   ]
  },
  {
   "cell_type": "code",
   "execution_count": 479,
   "metadata": {},
   "outputs": [],
   "source": [
    "history = model.fit(X_train, y_train, batch_size=128, epochs=60, verbose=0, \n",
    "                    validation_data=(X_test, y_test) )"
   ]
  },
  {
   "cell_type": "code",
   "execution_count": 480,
   "metadata": {},
   "outputs": [
    {
     "name": "stdout",
     "output_type": "stream",
     "text": [
      "2/2 [==============================] - 0s 13ms/step - loss: 1.0429 - acc: 0.6296\n"
     ]
    }
   ],
   "source": [
    "score = model.evaluate(X_test, y_test, verbose=1)"
   ]
  },
  {
   "cell_type": "code",
   "execution_count": 481,
   "metadata": {},
   "outputs": [
    {
     "name": "stdout",
     "output_type": "stream",
     "text": [
      "Test Score: 1.0429476499557495\n",
      "Test Accuracy: 0.6296296119689941\n"
     ]
    }
   ],
   "source": [
    "print(\"Test Score:\", score[0])\n",
    "print(\"Test Accuracy:\", score[1])\n"
   ]
  },
  {
   "cell_type": "code",
   "execution_count": 482,
   "metadata": {},
   "outputs": [
    {
     "data": {
      "text/plain": [
       "<AxesSubplot:>"
      ]
     },
     "execution_count": 482,
     "metadata": {},
     "output_type": "execute_result"
    },
    {
     "data": {
      "image/png": "[encoded data removed]",
      "text/plain": [
       "<Figure size 432x288 with 1 Axes>"
      ]
     },
     "metadata": {
      "needs_background": "light"
     },
     "output_type": "display_data"
    }
   ],
   "source": [
    "loss_df = pd.DataFrame(history.history)\n",
    "# plot\n",
    "loss_df[['loss', 'val_loss']].plot()"
   ]
  },
  {
   "cell_type": "code",
   "execution_count": 483,
   "metadata": {},
   "outputs": [
    {
     "name": "stdout",
     "output_type": "stream",
     "text": [
      "WARNING:tensorflow:5 out of the last 11 calls to <function Model.make_predict_function.<locals>.predict_function at 0x000002258D31C678> triggered tf.function retracing. Tracing is expensive and the excessive number of tracings could be due to (1) creating @tf.function repeatedly in a loop, (2) passing tensors with different shapes, (3) passing Python objects instead of tensors. For (1), please define your @tf.function outside of the loop. For (2), @tf.function has experimental_relax_shapes=True option that relaxes argument shapes that can avoid unnecessary retracing. For (3), please refer to https://www.tensorflow.org/tutorials/customization/performance#python_or_tensor_args and https://www.tensorflow.org/api_docs/python/tf/function for  more details.\n"
     ]
    }
   ],
   "source": [
    "predictions = model.predict(X_test)"
   ]
  },
  {
   "cell_type": "code",
   "execution_count": 484,
   "metadata": {},
   "outputs": [
    {
     "name": "stdout",
     "output_type": "stream",
     "text": [
      "[[ 0  4  4]\n",
      " [ 0 12  4]\n",
      " [ 0  8 22]]\n",
      "              precision    recall  f1-score   support\n",
      "\n",
      "           0       0.00      0.00      0.00         8\n",
      "           1       0.50      0.75      0.60        16\n",
      "           2       0.73      0.73      0.73        30\n",
      "\n",
      "    accuracy                           0.63        54\n",
      "   macro avg       0.41      0.49      0.44        54\n",
      "weighted avg       0.56      0.63      0.59        54\n",
      "\n"
     ]
    },
    {
     "name": "stderr",
     "output_type": "stream",
     "text": [
      "UndefinedMetricWarning: Precision and F-score are ill-defined and being set to 0.0 in labels with no predicted samples. Use `zero_division` parameter to control this behavior. [_classification.py:1221]\n"
     ]
    }
   ],
   "source": [
    "predictions = model.predict(X_test)\n",
    "print(confusion_matrix([np.argmax(x, axis=0) for x in y_test],[np.argmax(x, axis=0) for x in predictions]))\n",
    "print(classification_report([np.argmax(x, axis=0) for x in y_test],[np.argmax(x, axis=0) for x in predictions]))"
   ]
  },
  {
   "cell_type": "markdown",
   "metadata": {},
   "source": [
    "For some reason, "
   ]
  }
 ],
 "metadata": {
  "kernelspec": {
   "display_name": "Python 3",
   "language": "python",
   "name": "python3"
  },
  "language_info": {
   "codemirror_mode": {
    "name": "ipython",
    "version": 3
   },
   "file_extension": ".py",
   "mimetype": "text/x-python",
   "name": "python",
   "nbconvert_exporter": "python",
   "pygments_lexer": "ipython3",
   "version": "3.7.9"
  }
 },
 "nbformat": 4,
 "nbformat_minor": 4
}
